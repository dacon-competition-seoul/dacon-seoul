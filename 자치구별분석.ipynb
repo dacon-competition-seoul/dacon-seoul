{
 "cells": [
  {
   "cell_type": "code",
   "execution_count": 86,
   "metadata": {},
   "outputs": [],
   "source": [
    "import pandas as pd\n",
    "import matplotlib.pyplot as plt\n",
    "plt.rc('font', family='NanumBarunGothic') \n",
    "from typing import List\n"
   ]
  },
  {
   "cell_type": "code",
   "execution_count": 87,
   "metadata": {},
   "outputs": [],
   "source": [
    "df = pd.read_csv(\"data/자치구별5대범죄/01-20_자치구별_5대범죄.csv\")"
   ]
  },
  {
   "cell_type": "code",
   "execution_count": 88,
   "metadata": {},
   "outputs": [],
   "source": [
    "df_quota = pd.read_csv(\n",
    "    \"./data/경찰청_경찰서별_경찰관현황/2014-2021_서울_경찰서별_정원.csv\")"
   ]
  },
  {
   "cell_type": "code",
   "execution_count": 89,
   "metadata": {},
   "outputs": [],
   "source": [
    "answer = []\n",
    "for i, row in df.iterrows():\n",
    "    year: int = row.year\n",
    "    office: List[str] = eval(row[\"관할경찰서\"])\n",
    "    # print(office)\n",
    "    # print(year)\n",
    "    query = df_quota[(df_quota.ds == year)&(df_quota.office.isin(office))]\n",
    "    if len(query) > 0 :\n",
    "        answer.append(query.quota.sum())\n",
    "    else:\n",
    "        answer.append(pd.NA)\n",
    "df[\"관할경찰서정원\"] = answer"
   ]
  },
  {
   "cell_type": "code",
   "execution_count": 90,
   "metadata": {},
   "outputs": [
    {
     "data": {
      "text/html": [
       "<div>\n",
       "<style scoped>\n",
       "    .dataframe tbody tr th:only-of-type {\n",
       "        vertical-align: middle;\n",
       "    }\n",
       "\n",
       "    .dataframe tbody tr th {\n",
       "        vertical-align: top;\n",
       "    }\n",
       "\n",
       "    .dataframe thead th {\n",
       "        text-align: right;\n",
       "    }\n",
       "</style>\n",
       "<table border=\"1\" class=\"dataframe\">\n",
       "  <thead>\n",
       "    <tr style=\"text-align: right;\">\n",
       "      <th></th>\n",
       "      <th>year</th>\n",
       "      <th>자치구</th>\n",
       "      <th>죄종</th>\n",
       "      <th>발생검거</th>\n",
       "      <th>건수</th>\n",
       "      <th>관할경찰서</th>\n",
       "      <th>관할경찰서정원</th>\n",
       "    </tr>\n",
       "  </thead>\n",
       "  <tbody>\n",
       "    <tr>\n",
       "      <th>0</th>\n",
       "      <td>2001</td>\n",
       "      <td>강남구</td>\n",
       "      <td>강간,추행</td>\n",
       "      <td>검거</td>\n",
       "      <td>108</td>\n",
       "      <td>['강남', '수서']</td>\n",
       "      <td>&lt;NA&gt;</td>\n",
       "    </tr>\n",
       "    <tr>\n",
       "      <th>1</th>\n",
       "      <td>2001</td>\n",
       "      <td>강남구</td>\n",
       "      <td>강간,추행</td>\n",
       "      <td>발생</td>\n",
       "      <td>157</td>\n",
       "      <td>['강남', '수서']</td>\n",
       "      <td>&lt;NA&gt;</td>\n",
       "    </tr>\n",
       "    <tr>\n",
       "      <th>2</th>\n",
       "      <td>2001</td>\n",
       "      <td>강남구</td>\n",
       "      <td>강도</td>\n",
       "      <td>검거</td>\n",
       "      <td>151</td>\n",
       "      <td>['강남', '수서']</td>\n",
       "      <td>&lt;NA&gt;</td>\n",
       "    </tr>\n",
       "    <tr>\n",
       "      <th>3</th>\n",
       "      <td>2001</td>\n",
       "      <td>강남구</td>\n",
       "      <td>강도</td>\n",
       "      <td>발생</td>\n",
       "      <td>217</td>\n",
       "      <td>['강남', '수서']</td>\n",
       "      <td>&lt;NA&gt;</td>\n",
       "    </tr>\n",
       "    <tr>\n",
       "      <th>4</th>\n",
       "      <td>2001</td>\n",
       "      <td>강남구</td>\n",
       "      <td>살인</td>\n",
       "      <td>검거</td>\n",
       "      <td>23</td>\n",
       "      <td>['강남', '수서']</td>\n",
       "      <td>&lt;NA&gt;</td>\n",
       "    </tr>\n",
       "    <tr>\n",
       "      <th>...</th>\n",
       "      <td>...</td>\n",
       "      <td>...</td>\n",
       "      <td>...</td>\n",
       "      <td>...</td>\n",
       "      <td>...</td>\n",
       "      <td>...</td>\n",
       "      <td>...</td>\n",
       "    </tr>\n",
       "    <tr>\n",
       "      <th>4997</th>\n",
       "      <td>2020</td>\n",
       "      <td>중랑구</td>\n",
       "      <td>살인</td>\n",
       "      <td>발생</td>\n",
       "      <td>10</td>\n",
       "      <td>['중랑']</td>\n",
       "      <td>749</td>\n",
       "    </tr>\n",
       "    <tr>\n",
       "      <th>4998</th>\n",
       "      <td>2020</td>\n",
       "      <td>중랑구</td>\n",
       "      <td>절도</td>\n",
       "      <td>검거</td>\n",
       "      <td>889</td>\n",
       "      <td>['중랑']</td>\n",
       "      <td>749</td>\n",
       "    </tr>\n",
       "    <tr>\n",
       "      <th>4999</th>\n",
       "      <td>2020</td>\n",
       "      <td>중랑구</td>\n",
       "      <td>절도</td>\n",
       "      <td>발생</td>\n",
       "      <td>1506</td>\n",
       "      <td>['중랑']</td>\n",
       "      <td>749</td>\n",
       "    </tr>\n",
       "    <tr>\n",
       "      <th>5000</th>\n",
       "      <td>2020</td>\n",
       "      <td>중랑구</td>\n",
       "      <td>폭력</td>\n",
       "      <td>검거</td>\n",
       "      <td>1724</td>\n",
       "      <td>['중랑']</td>\n",
       "      <td>749</td>\n",
       "    </tr>\n",
       "    <tr>\n",
       "      <th>5001</th>\n",
       "      <td>2020</td>\n",
       "      <td>중랑구</td>\n",
       "      <td>폭력</td>\n",
       "      <td>발생</td>\n",
       "      <td>2022</td>\n",
       "      <td>['중랑']</td>\n",
       "      <td>749</td>\n",
       "    </tr>\n",
       "  </tbody>\n",
       "</table>\n",
       "<p>5002 rows × 7 columns</p>\n",
       "</div>"
      ],
      "text/plain": [
       "      year  자치구     죄종 발생검거    건수         관할경찰서 관할경찰서정원\n",
       "0     2001  강남구  강간,추행   검거   108  ['강남', '수서']    <NA>\n",
       "1     2001  강남구  강간,추행   발생   157  ['강남', '수서']    <NA>\n",
       "2     2001  강남구     강도   검거   151  ['강남', '수서']    <NA>\n",
       "3     2001  강남구     강도   발생   217  ['강남', '수서']    <NA>\n",
       "4     2001  강남구     살인   검거    23  ['강남', '수서']    <NA>\n",
       "...    ...  ...    ...  ...   ...           ...     ...\n",
       "4997  2020  중랑구     살인   발생    10        ['중랑']     749\n",
       "4998  2020  중랑구     절도   검거   889        ['중랑']     749\n",
       "4999  2020  중랑구     절도   발생  1506        ['중랑']     749\n",
       "5000  2020  중랑구     폭력   검거  1724        ['중랑']     749\n",
       "5001  2020  중랑구     폭력   발생  2022        ['중랑']     749\n",
       "\n",
       "[5002 rows x 7 columns]"
      ]
     },
     "execution_count": 90,
     "metadata": {},
     "output_type": "execute_result"
    }
   ],
   "source": [
    "df"
   ]
  },
  {
   "cell_type": "code",
   "execution_count": 92,
   "metadata": {},
   "outputs": [],
   "source": [
    "df_drop = df.dropna()"
   ]
  },
  {
   "cell_type": "code",
   "execution_count": 94,
   "metadata": {},
   "outputs": [],
   "source": [
    "crime_cls = df_drop[\"죄종\"].unique()"
   ]
  },
  {
   "cell_type": "code",
   "execution_count": 95,
   "metadata": {},
   "outputs": [
    {
     "data": {
      "text/plain": [
       "array(['강간,추행', '강도', '살인', '절도', '폭력'], dtype=object)"
      ]
     },
     "execution_count": 95,
     "metadata": {},
     "output_type": "execute_result"
    }
   ],
   "source": [
    "crime_cls"
   ]
  },
  {
   "cell_type": "code",
   "execution_count": 106,
   "metadata": {},
   "outputs": [
    {
     "data": {
      "text/plain": [
       "<matplotlib.collections.PathCollection at 0x7fbfd883a2e0>"
      ]
     },
     "execution_count": 106,
     "metadata": {},
     "output_type": "execute_result"
    },
    {
     "data": {
      "image/png": "[encoded data removed]",
      "text/plain": [
       "<Figure size 432x288 with 1 Axes>"
      ]
     },
     "metadata": {
      "needs_background": "light"
     },
     "output_type": "display_data"
    }
   ],
   "source": [
    "temp = df_drop[(df_drop[\"죄종\"]==\"강간,추행\") &(df_drop[\"발생검거\"]==\"검거\")  ]\n",
    "plt.scatter(temp[\"관할경찰서정원\"], temp[\"건수\"])"
   ]
  },
  {
   "cell_type": "code",
   "execution_count": 109,
   "metadata": {},
   "outputs": [
    {
     "data": {
      "text/html": [
       "<div>\n",
       "<style scoped>\n",
       "    .dataframe tbody tr th:only-of-type {\n",
       "        vertical-align: middle;\n",
       "    }\n",
       "\n",
       "    .dataframe tbody tr th {\n",
       "        vertical-align: top;\n",
       "    }\n",
       "\n",
       "    .dataframe thead th {\n",
       "        text-align: right;\n",
       "    }\n",
       "</style>\n",
       "<table border=\"1\" class=\"dataframe\">\n",
       "  <thead>\n",
       "    <tr style=\"text-align: right;\">\n",
       "      <th></th>\n",
       "      <th>year</th>\n",
       "      <th>자치구</th>\n",
       "      <th>죄종</th>\n",
       "      <th>발생검거</th>\n",
       "      <th>건수</th>\n",
       "      <th>관할경찰서</th>\n",
       "      <th>관할경찰서정원</th>\n",
       "    </tr>\n",
       "  </thead>\n",
       "  <tbody>\n",
       "    <tr>\n",
       "      <th>3251</th>\n",
       "      <td>2014</td>\n",
       "      <td>강남구</td>\n",
       "      <td>강간,추행</td>\n",
       "      <td>발생</td>\n",
       "      <td>512</td>\n",
       "      <td>['강남', '수서']</td>\n",
       "      <td>1351</td>\n",
       "    </tr>\n",
       "    <tr>\n",
       "      <th>3261</th>\n",
       "      <td>2014</td>\n",
       "      <td>강동구</td>\n",
       "      <td>강간,추행</td>\n",
       "      <td>발생</td>\n",
       "      <td>148</td>\n",
       "      <td>['강동']</td>\n",
       "      <td>704</td>\n",
       "    </tr>\n",
       "    <tr>\n",
       "      <th>3271</th>\n",
       "      <td>2014</td>\n",
       "      <td>강북구</td>\n",
       "      <td>강간,추행</td>\n",
       "      <td>발생</td>\n",
       "      <td>189</td>\n",
       "      <td>['강북']</td>\n",
       "      <td>621</td>\n",
       "    </tr>\n",
       "    <tr>\n",
       "      <th>3281</th>\n",
       "      <td>2014</td>\n",
       "      <td>강서구</td>\n",
       "      <td>강간,추행</td>\n",
       "      <td>발생</td>\n",
       "      <td>214</td>\n",
       "      <td>['강서']</td>\n",
       "      <td>809</td>\n",
       "    </tr>\n",
       "    <tr>\n",
       "      <th>3291</th>\n",
       "      <td>2014</td>\n",
       "      <td>관악구</td>\n",
       "      <td>강간,추행</td>\n",
       "      <td>발생</td>\n",
       "      <td>361</td>\n",
       "      <td>['관악']</td>\n",
       "      <td>776</td>\n",
       "    </tr>\n",
       "    <tr>\n",
       "      <th>...</th>\n",
       "      <td>...</td>\n",
       "      <td>...</td>\n",
       "      <td>...</td>\n",
       "      <td>...</td>\n",
       "      <td>...</td>\n",
       "      <td>...</td>\n",
       "      <td>...</td>\n",
       "    </tr>\n",
       "    <tr>\n",
       "      <th>4953</th>\n",
       "      <td>2020</td>\n",
       "      <td>용산구</td>\n",
       "      <td>강간,추행</td>\n",
       "      <td>발생</td>\n",
       "      <td>230</td>\n",
       "      <td>['용산']</td>\n",
       "      <td>690</td>\n",
       "    </tr>\n",
       "    <tr>\n",
       "      <th>4963</th>\n",
       "      <td>2020</td>\n",
       "      <td>은평구</td>\n",
       "      <td>강간,추행</td>\n",
       "      <td>발생</td>\n",
       "      <td>171</td>\n",
       "      <td>['서부', '은평']</td>\n",
       "      <td>890</td>\n",
       "    </tr>\n",
       "    <tr>\n",
       "      <th>4973</th>\n",
       "      <td>2020</td>\n",
       "      <td>종로구</td>\n",
       "      <td>강간,추행</td>\n",
       "      <td>발생</td>\n",
       "      <td>192</td>\n",
       "      <td>['종로', '혜화']</td>\n",
       "      <td>1111</td>\n",
       "    </tr>\n",
       "    <tr>\n",
       "      <th>4983</th>\n",
       "      <td>2020</td>\n",
       "      <td>중구</td>\n",
       "      <td>강간,추행</td>\n",
       "      <td>발생</td>\n",
       "      <td>186</td>\n",
       "      <td>['중부', '남대문']</td>\n",
       "      <td>994</td>\n",
       "    </tr>\n",
       "    <tr>\n",
       "      <th>4993</th>\n",
       "      <td>2020</td>\n",
       "      <td>중랑구</td>\n",
       "      <td>강간,추행</td>\n",
       "      <td>발생</td>\n",
       "      <td>183</td>\n",
       "      <td>['중랑']</td>\n",
       "      <td>749</td>\n",
       "    </tr>\n",
       "  </tbody>\n",
       "</table>\n",
       "<p>176 rows × 7 columns</p>\n",
       "</div>"
      ],
      "text/plain": [
       "      year  자치구     죄종 발생검거   건수          관할경찰서 관할경찰서정원\n",
       "3251  2014  강남구  강간,추행   발생  512   ['강남', '수서']    1351\n",
       "3261  2014  강동구  강간,추행   발생  148         ['강동']     704\n",
       "3271  2014  강북구  강간,추행   발생  189         ['강북']     621\n",
       "3281  2014  강서구  강간,추행   발생  214         ['강서']     809\n",
       "3291  2014  관악구  강간,추행   발생  361         ['관악']     776\n",
       "...    ...  ...    ...  ...  ...            ...     ...\n",
       "4953  2020  용산구  강간,추행   발생  230         ['용산']     690\n",
       "4963  2020  은평구  강간,추행   발생  171   ['서부', '은평']     890\n",
       "4973  2020  종로구  강간,추행   발생  192   ['종로', '혜화']    1111\n",
       "4983  2020   중구  강간,추행   발생  186  ['중부', '남대문']     994\n",
       "4993  2020  중랑구  강간,추행   발생  183         ['중랑']     749\n",
       "\n",
       "[176 rows x 7 columns]"
      ]
     },
     "execution_count": 109,
     "metadata": {},
     "output_type": "execute_result"
    }
   ],
   "source": []
  },
  {
   "cell_type": "code",
   "execution_count": 112,
   "metadata": {},
   "outputs": [
    {
     "data": {
      "text/plain": [
       "<matplotlib.collections.PathCollection at 0x7fbfd869f730>"
      ]
     },
     "execution_count": 112,
     "metadata": {},
     "output_type": "execute_result"
    },
    {
     "data": {
      "image/png": "[encoded data removed]",
      "text/plain": [
       "      year  자치구     죄종 발생검거    건수         관할경찰서\n",
       "0     2001  강남구  강간,추행   검거   108  ['강남', '수서']\n",
       "1     2001  강남구  강간,추행   발생   157  ['강남', '수서']\n",
       "2     2001  강남구     강도   검거   151  ['강남', '수서']\n",
       "3     2001  강남구     강도   발생   217  ['강남', '수서']\n",
       "4     2001  강남구     살인   검거    23  ['강남', '수서']\n",
       "...    ...  ...    ...  ...   ...           ...\n",
       "4997  2020  중랑구     살인   발생    10        ['중랑']\n",
       "4998  2020  중랑구     절도   검거   889        ['중랑']\n",
       "4999  2020  중랑구     절도   발생  1506        ['중랑']\n",
       "5000  2020  중랑구     폭력   검거  1724        ['중랑']\n",
       "5001  2020  중랑구     폭력   발생  2022        ['중랑']\n",
       "\n",
       "[5002 rows x 6 columns]"
      ]
     },
     "execution_count": 45,
     "metadata": {},
     "output_type": "execute_result"
    }
   ],
   "source": [
    "temp = df_drop[(df_drop[\"죄종\"]==\"강간,추행\") &(df_drop[\"발생검거\"]==\"발생\")  ]\n",
    "temp = temp[ temp[\"자치구\"] == \"중랑구\"] \n",
    "plt.scatter(temp[\"관할경찰서정원\"], temp[\"건수\"])"
   ]
  }
 ],
 "metadata": {
  "kernelspec": {
   "display_name": "Python 3.9.7 ('base')",
   "language": "python",
   "name": "python3"
  },
  "language_info": {
   "codemirror_mode": {
    "name": "ipython",
    "version": 3
   },
   "file_extension": ".py",
   "mimetype": "text/x-python",
   "name": "python",
   "nbconvert_exporter": "python",
   "pygments_lexer": "ipython3",
   "version": "3.9.12"
  },
  "orig_nbformat": 4,
  "vscode": {
   "interpreter": {
    "hash": "84bbda367bac7e7bffd9b7890a44d65326aaedad40e5a9021c2651157391b1ef"
   }
  }
 },
 "nbformat": 4,
 "nbformat_minor": 2
}
