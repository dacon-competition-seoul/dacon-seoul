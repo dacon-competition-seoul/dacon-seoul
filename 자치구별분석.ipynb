{
 "cells": [
  {
   "cell_type": "code",
   "execution_count": 50,
   "metadata": {},
   "outputs": [],
   "source": [
    "import pandas as pd\n",
    "import matplotlib.pyplot as plt\n",
    "\n",
    "plt.style.use(\"seaborn\")\n",
    "plt.rc('font', family='NanumBarunGothic') \n"
   ]
  },
  {
   "cell_type": "code",
   "execution_count": 35,
   "metadata": {},
   "outputs": [],
   "source": [
    "df = pd.read_csv(\"data/자치구별5대범죄/01-20_자치구별_5대범죄.csv\")"
   ]
  },
  {
   "cell_type": "code",
   "execution_count": 42,
   "metadata": {},
   "outputs": [
    {
     "data": {
      "text/plain": [
       "array(['강간,추행', '강도', '살인', '절도', '폭력'], dtype=object)"
      ]
     },
     "execution_count": 42,
     "metadata": {},
     "output_type": "execute_result"
    }
   ],
   "source": [
    "df[\"죄종\"].unique()"
   ]
  },
  {
   "cell_type": "code",
   "execution_count": 45,
   "metadata": {},
   "outputs": [
    {
     "data": {
      "text/html": [
       "<div>\n",
       "<style scoped>\n",
       "    .dataframe tbody tr th:only-of-type {\n",
       "        vertical-align: middle;\n",
       "    }\n",
       "\n",
       "    .dataframe tbody tr th {\n",
       "        vertical-align: top;\n",
       "    }\n",
       "\n",
       "    .dataframe thead th {\n",
       "        text-align: right;\n",
       "    }\n",
       "</style>\n",
       "<table border=\"1\" class=\"dataframe\">\n",
       "  <thead>\n",
       "    <tr style=\"text-align: right;\">\n",
       "      <th></th>\n",
       "      <th>year</th>\n",
       "      <th>자치구</th>\n",
       "      <th>죄종</th>\n",
       "      <th>발생검거</th>\n",
       "      <th>건수</th>\n",
       "      <th>관할경찰서</th>\n",
       "    </tr>\n",
       "  </thead>\n",
       "  <tbody>\n",
       "    <tr>\n",
       "      <th>0</th>\n",
       "      <td>2001</td>\n",
       "      <td>강남구</td>\n",
       "      <td>강간,추행</td>\n",
       "      <td>검거</td>\n",
       "      <td>108</td>\n",
       "      <td>['강남', '수서']</td>\n",
       "    </tr>\n",
       "    <tr>\n",
       "      <th>1</th>\n",
       "      <td>2001</td>\n",
       "      <td>강남구</td>\n",
       "      <td>강간,추행</td>\n",
       "      <td>발생</td>\n",
       "      <td>157</td>\n",
       "      <td>['강남', '수서']</td>\n",
       "    </tr>\n",
       "    <tr>\n",
       "      <th>2</th>\n",
       "      <td>2001</td>\n",
       "      <td>강남구</td>\n",
       "      <td>강도</td>\n",
       "      <td>검거</td>\n",
       "      <td>151</td>\n",
       "      <td>['강남', '수서']</td>\n",
       "    </tr>\n",
       "    <tr>\n",
       "      <th>3</th>\n",
       "      <td>2001</td>\n",
       "      <td>강남구</td>\n",
       "      <td>강도</td>\n",
       "      <td>발생</td>\n",
       "      <td>217</td>\n",
       "      <td>['강남', '수서']</td>\n",
       "    </tr>\n",
       "    <tr>\n",
       "      <th>4</th>\n",
       "      <td>2001</td>\n",
       "      <td>강남구</td>\n",
       "      <td>살인</td>\n",
       "      <td>검거</td>\n",
       "      <td>23</td>\n",
       "      <td>['강남', '수서']</td>\n",
       "    </tr>\n",
       "    <tr>\n",
       "      <th>...</th>\n",
       "      <td>...</td>\n",
       "      <td>...</td>\n",
       "      <td>...</td>\n",
       "      <td>...</td>\n",
       "      <td>...</td>\n",
       "      <td>...</td>\n",
       "    </tr>\n",
       "    <tr>\n",
       "      <th>4997</th>\n",
       "      <td>2020</td>\n",
       "      <td>중랑구</td>\n",
       "      <td>살인</td>\n",
       "      <td>발생</td>\n",
       "      <td>10</td>\n",
       "      <td>['중랑']</td>\n",
       "    </tr>\n",
       "    <tr>\n",
       "      <th>4998</th>\n",
       "      <td>2020</td>\n",
       "      <td>중랑구</td>\n",
       "      <td>절도</td>\n",
       "      <td>검거</td>\n",
       "      <td>889</td>\n",
       "      <td>['중랑']</td>\n",
       "    </tr>\n",
       "    <tr>\n",
       "      <th>4999</th>\n",
       "      <td>2020</td>\n",
       "      <td>중랑구</td>\n",
       "      <td>절도</td>\n",
       "      <td>발생</td>\n",
       "      <td>1506</td>\n",
       "      <td>['중랑']</td>\n",
       "    </tr>\n",
       "    <tr>\n",
       "      <th>5000</th>\n",
       "      <td>2020</td>\n",
       "      <td>중랑구</td>\n",
       "      <td>폭력</td>\n",
       "      <td>검거</td>\n",
       "      <td>1724</td>\n",
       "      <td>['중랑']</td>\n",
       "    </tr>\n",
       "    <tr>\n",
       "      <th>5001</th>\n",
       "      <td>2020</td>\n",
       "      <td>중랑구</td>\n",
       "      <td>폭력</td>\n",
       "      <td>발생</td>\n",
       "      <td>2022</td>\n",
       "      <td>['중랑']</td>\n",
       "    </tr>\n",
       "  </tbody>\n",
       "</table>\n",
       "<p>5002 rows × 6 columns</p>\n",
       "</div>"
      ],
      "text/plain": [
       "      year  자치구     죄종 발생검거    건수         관할경찰서\n",
       "0     2001  강남구  강간,추행   검거   108  ['강남', '수서']\n",
       "1     2001  강남구  강간,추행   발생   157  ['강남', '수서']\n",
       "2     2001  강남구     강도   검거   151  ['강남', '수서']\n",
       "3     2001  강남구     강도   발생   217  ['강남', '수서']\n",
       "4     2001  강남구     살인   검거    23  ['강남', '수서']\n",
       "...    ...  ...    ...  ...   ...           ...\n",
       "4997  2020  중랑구     살인   발생    10        ['중랑']\n",
       "4998  2020  중랑구     절도   검거   889        ['중랑']\n",
       "4999  2020  중랑구     절도   발생  1506        ['중랑']\n",
       "5000  2020  중랑구     폭력   검거  1724        ['중랑']\n",
       "5001  2020  중랑구     폭력   발생  2022        ['중랑']\n",
       "\n",
       "[5002 rows x 6 columns]"
      ]
     },
     "execution_count": 45,
     "metadata": {},
     "output_type": "execute_result"
    }
   ],
   "source": [
    "df"
   ]
  },
  {
   "cell_type": "code",
   "execution_count": 48,
   "metadata": {},
   "outputs": [],
   "source": [
    "def plot_by(c):\n",
    "    temp = df[(df[\"죄종\"] == c) & (df[\"발생검거\"] == \"발생\")]\n",
    "\n",
    "    temp.groupby(\"year\").sum().plot()"
   ]
  }
 ],
 "metadata": {
  "kernelspec": {
   "display_name": "Python 3.9.7 ('base')",
   "language": "python",
   "name": "python3"
  },
  "language_info": {
   "codemirror_mode": {
    "name": "ipython",
    "version": 3
   },
   "file_extension": ".py",
   "mimetype": "text/x-python",
   "name": "python",
   "nbconvert_exporter": "python",
   "pygments_lexer": "ipython3",
   "version": "3.9.7"
  },
  "orig_nbformat": 4,
  "vscode": {
   "interpreter": {
    "hash": "84bbda367bac7e7bffd9b7890a44d65326aaedad40e5a9021c2651157391b1ef"
   }
  }
 },
 "nbformat": 4,
 "nbformat_minor": 2
}
