{
  "cells": [
    {
      "cell_type": "markdown",
      "metadata": {
        "id": "q01jKT5613nr"
      },
      "source": [
        "# 8팀 (이정수, 이홍규, 정현우) 서울시 따릉이 대여소 주변 환경 기반 자전거 대여 예측"
      ]
    },
    {
      "cell_type": "markdown",
      "metadata": {
        "id": "3nlXaCWNXoF0"
      },
      "source": [
        "# 데이터 목록"
      ]
    },
    {
      "cell_type": "markdown",
      "metadata": {
        "id": "2yFNA6SlXMSE"
      },
      "source": [
        "[ 사용 데이터 정리 ]  \n",
        "1. 서울시 따릉이 대여소별 대여/반납 승객수 정보\n",
        "    - 제공: 서울 열린데이터 광장\n",
        "    - 저작권자(제공기관): 서울특별시\n",
        "    - 데이터 기간: 2022.01. ~ 2022.07.\n",
        "    - url: https://data.seoul.go.kr/dataList/OA-21229/F/1/datasetView.do  \n",
        "\n",
        "2. 서울특별시 따릉이대여소 마스터 정보 (대여소 ID 및 위경도 정보)\n",
        "    - 제공: 서울 열린데이터 광장\n",
        "    - 저작권자(제공기관): 서울특별시\n",
        "    - 데이터 기간: 해당사항 없음\n",
        "    - url: http://data.seoul.go.kr/dataList/OA-21235/S/1/datasetView.do    \n",
        "  \n",
        "3. 기상청 > 서울특별시 시간별 날씨 데이터\n",
        "    - 제공: 기상청 기상자료개방포털\n",
        "    - 저작권자(제공기관): 기상청\n",
        "    - 데이터 기간: 2022.01. ~ 2022.07.\n",
        "    - url: https://data.kma.go.kr/data/grnd/selectAsosRltmList.do?pgmNo=36  \n",
        "    \n",
        "4. 수치표고모델(DEM)_90M\n",
        "  - 제공: 국토지리정보원\n",
        "  - url: http://data.nsdi.go.kr/dataset/20001  \n",
        "\n",
        "5. 서울시 버스노선 기본정보 항목정보\n",
        "    - 제공: 서울 열린데이터 광장\n",
        "    - 저작권자(제공기관): 서울특별시\n",
        "    - 데이터 기간: 2022.08.23.\n",
        "    - url: http://data.seoul.go.kr/dataList/OA-15262/F/1/datasetView.do\n",
        "\n",
        "6. 서울시 버스노선별 정류장별 승하차 인원 정보\n",
        "    - 제공: 서울 열린데이터 광장\n",
        "    - 저작권자(제공기관): 서울특별시\n",
        "    - 데이터 기간: 2022.01. ~ 2022.07.\n",
        "    - url: http://data.seoul.go.kr/dataList/OA-12912/S/1/datasetView.do\n",
        "\n",
        "7. 서울시 버스노선별 정류장별 시간대별 승하차 인원 정보\n",
        "    - 제공: 서울 열린데이터 광장\n",
        "    - 저작권자(제공기관): 서울특별시\n",
        "    - 데이터 기간: 2022.01. ~ 2022.07.\n",
        "    - url: http://data.seoul.go.kr/dataList/OA-12913/S/1/datasetView.do"
      ]
    },
    {
      "cell_type": "markdown",
      "metadata": {
        "id": "6rKSGPkcWway"
      },
      "source": [
        "데이터 저장 경로: \"./data/각 데이터폴더명\""
      ]
    },
    {
      "cell_type": "code",
      "execution_count": null,
      "metadata": {
        "id": "0DOc_uKKXMSH"
      },
      "outputs": [],
      "source": [
        "import pandas as pd\n",
        "import numpy as np\n",
        "import matplotlib\n",
        "import matplotlib.pyplot as plt\n",
        "import os\n",
        "import folium\n",
        "import math\n",
        "\n",
        "import warnings\n",
        "warnings.filterwarnings(action=\"ignore\")"
      ]
    },
    {
      "cell_type": "markdown",
      "metadata": {
        "id": "t_qod2ohRdla"
      },
      "source": [
        "# 데이터 처리 및 Merge"
      ]
    },
    {
      "cell_type": "markdown",
      "metadata": {
        "id": "AFUsRwd1XMSJ"
      },
      "source": [
        "### 데이터 로드"
      ]
    },
    {
      "cell_type": "markdown",
      "metadata": {
        "id": "3aFk8d3NnXgR"
      },
      "source": [
        "- 1. 서울시 따릉이 대여소별 대여/반납 승객수 정보"
      ]
    },
    {
      "cell_type": "code",
      "execution_count": null,
      "metadata": {
        "id": "k0pCbepqXMSJ"
      },
      "outputs": [],
      "source": [
        "# zip 파일 풀기\n",
        "import zipfile\n",
        "\n",
        "for i in range(1,8):\n",
        "    fantasy_zip = zipfile.ZipFile(f'tpss_bcycl_od_statnhm_20220{i}.zip')\n",
        "    fantasy_zip.extractall('./bicycle_2201_2207')\n",
        "\n",
        "fantasy_zip.close()"
      ]
    },
    {
      "cell_type": "code",
      "execution_count": null,
      "metadata": {
        "id": "UV35f-7sXMSL"
      },
      "outputs": [],
      "source": [
        "# 1월 - 7월의 대여 정보 합치기\n",
        "\n",
        "dir_path = \"./bicycle_2201_2207\"\n",
        "file_paths=[]\n",
        "\n",
        "for (root, directories, files) in os.walk(dir_path):\n",
        "    for file in files:\n",
        "        if '.csv' in file:\n",
        "            file_path = os.path.join(root, file)\n",
        "            file_paths.append(file_path)\n",
        "\n",
        "colnames=['기준_날짜', '기준_시간대', '시작_대여소_ID', '종료_대여소_ID', '전체_건수', '전체_이용_분', '전체_이용_거리']\n",
        "\n",
        "bicycle_df = []\n",
        "for path in file_paths:\n",
        "    try:\n",
        "        bicycle_tmp=pd.read_csv(path,encoding='cp949')\n",
        "    except UnicodeDecodeError:\n",
        "        bicycle_tmp=pd.read_csv(path,encoding='utf-8') # 20220330 데이터 unicode 다름\n",
        "    bicycle_tmp.columns=colnames\n",
        "    bicycle_df.append(bicycle_tmp)\n",
        "\n",
        "bicycle_tmp=pd.concat(bicycle_df, axis=0, ignore_index=True)\n",
        "bicycle_tmp"
      ]
    },
    {
      "cell_type": "markdown",
      "metadata": {
        "id": "toVmYvZBntMD"
      },
      "source": [
        "- 2. 서울특별시 따릉이대여소 마스터 정보"
      ]
    },
    {
      "cell_type": "code",
      "execution_count": null,
      "metadata": {
        "id": "GDuVLWbfnyr-"
      },
      "outputs": [],
      "source": [
        "location=pd.read_csv(\"./data/서울시-따릉이대여소-마스터-정보.csv\",encoding='cp949')\n",
        "location=location[location['위도']!=0]\n",
        "location"
      ]
    },
    {
      "cell_type": "markdown",
      "metadata": {
        "id": "VwDazMyIXMSM"
      },
      "source": [
        "### 데이터 전처리"
      ]
    },
    {
      "cell_type": "markdown",
      "metadata": {
        "id": "TpmjQxQWoc3j"
      },
      "source": [
        "- 1. 전처리 _ 서울시 따릉이 대여소별 대여/반납 승객수 정보  "
      ]
    },
    {
      "cell_type": "code",
      "execution_count": null,
      "metadata": {
        "id": "BxtHD0wqXMSM",
        "outputId": "92d83ed4-dd2d-40a1-8e3c-0066c2982cb8"
      },
      "outputs": [
        {
          "data": {
            "text/html": [
              "<div>\n",
              "<style scoped>\n",
              "    .dataframe tbody tr th:only-of-type {\n",
              "        vertical-align: middle;\n",
              "    }\n",
              "\n",
              "    .dataframe tbody tr th {\n",
              "        vertical-align: top;\n",
              "    }\n",
              "\n",
              "    .dataframe thead th {\n",
              "        text-align: right;\n",
              "    }\n",
              "</style>\n",
              "<table border=\"1\" class=\"dataframe\">\n",
              "  <thead>\n",
              "    <tr style=\"text-align: right;\">\n",
              "      <th></th>\n",
              "      <th>시작_대여소_ID</th>\n",
              "      <th>종료_대여소_ID</th>\n",
              "      <th>전체_건수</th>\n",
              "      <th>기준_날짜시간</th>\n",
              "      <th>요일</th>\n",
              "    </tr>\n",
              "  </thead>\n",
              "  <tbody>\n",
              "    <tr>\n",
              "      <th>0</th>\n",
              "      <td>2988</td>\n",
              "      <td>930</td>\n",
              "      <td>1</td>\n",
              "      <td>2022-01-01 00:00:00</td>\n",
              "      <td>토</td>\n",
              "    </tr>\n",
              "    <tr>\n",
              "      <th>1</th>\n",
              "      <td>2396</td>\n",
              "      <td>1000</td>\n",
              "      <td>1</td>\n",
              "      <td>2022-01-01 00:00:00</td>\n",
              "      <td>토</td>\n",
              "    </tr>\n",
              "    <tr>\n",
              "      <th>2</th>\n",
              "      <td>2761</td>\n",
              "      <td>1005</td>\n",
              "      <td>1</td>\n",
              "      <td>2022-01-01 00:00:00</td>\n",
              "      <td>토</td>\n",
              "    </tr>\n",
              "    <tr>\n",
              "      <th>3</th>\n",
              "      <td>2789</td>\n",
              "      <td>2965</td>\n",
              "      <td>1</td>\n",
              "      <td>2022-01-01 00:00:00</td>\n",
              "      <td>토</td>\n",
              "    </tr>\n",
              "    <tr>\n",
              "      <th>4</th>\n",
              "      <td>315</td>\n",
              "      <td>2015</td>\n",
              "      <td>1</td>\n",
              "      <td>2022-01-01 00:00:00</td>\n",
              "      <td>토</td>\n",
              "    </tr>\n",
              "    <tr>\n",
              "      <th>...</th>\n",
              "      <td>...</td>\n",
              "      <td>...</td>\n",
              "      <td>...</td>\n",
              "      <td>...</td>\n",
              "      <td>...</td>\n",
              "    </tr>\n",
              "    <tr>\n",
              "      <th>36066448</th>\n",
              "      <td>2031</td>\n",
              "      <td>2056</td>\n",
              "      <td>1</td>\n",
              "      <td>2022-07-31 23:00:00</td>\n",
              "      <td>일</td>\n",
              "    </tr>\n",
              "    <tr>\n",
              "      <th>36066449</th>\n",
              "      <td>717</td>\n",
              "      <td>2380</td>\n",
              "      <td>1</td>\n",
              "      <td>2022-07-31 23:00:00</td>\n",
              "      <td>일</td>\n",
              "    </tr>\n",
              "    <tr>\n",
              "      <th>36066450</th>\n",
              "      <td>1868</td>\n",
              "      <td>1582</td>\n",
              "      <td>1</td>\n",
              "      <td>2022-07-31 23:00:00</td>\n",
              "      <td>일</td>\n",
              "    </tr>\n",
              "    <tr>\n",
              "      <th>36066451</th>\n",
              "      <td>2037</td>\n",
              "      <td>516</td>\n",
              "      <td>1</td>\n",
              "      <td>2022-07-31 23:00:00</td>\n",
              "      <td>일</td>\n",
              "    </tr>\n",
              "    <tr>\n",
              "      <th>36066452</th>\n",
              "      <td>1867</td>\n",
              "      <td>2601</td>\n",
              "      <td>1</td>\n",
              "      <td>2022-07-31 23:00:00</td>\n",
              "      <td>일</td>\n",
              "    </tr>\n",
              "  </tbody>\n",
              "</table>\n",
              "<p>36066453 rows × 5 columns</p>\n",
              "</div>"
            ],
            "text/plain": [
              "          시작_대여소_ID  종료_대여소_ID  전체_건수             기준_날짜시간 요일\n",
              "0              2988        930      1 2022-01-01 00:00:00  토\n",
              "1              2396       1000      1 2022-01-01 00:00:00  토\n",
              "2              2761       1005      1 2022-01-01 00:00:00  토\n",
              "3              2789       2965      1 2022-01-01 00:00:00  토\n",
              "4               315       2015      1 2022-01-01 00:00:00  토\n",
              "...             ...        ...    ...                 ... ..\n",
              "36066448       2031       2056      1 2022-07-31 23:00:00  일\n",
              "36066449        717       2380      1 2022-07-31 23:00:00  일\n",
              "36066450       1868       1582      1 2022-07-31 23:00:00  일\n",
              "36066451       2037        516      1 2022-07-31 23:00:00  일\n",
              "36066452       1867       2601      1 2022-07-31 23:00:00  일\n",
              "\n",
              "[36066453 rows x 5 columns]"
            ]
          },
          "execution_count": 20,
          "metadata": {},
          "output_type": "execute_result"
        }
      ],
      "source": [
        "import datetime\n",
        "\n",
        "# 전체_이용_분 = 0, 전체_이용_거리 = 0, 시작_대여소=종료_대여소 인 데이터는 제거\n",
        "bicycle=bicycle_tmp[(bicycle_tmp[\"전체_이용_분\"]>0) & (bicycle_tmp[\"전체_이용_거리\"]>0)]\n",
        "bicycle=bicycle[bicycle[\"시작_대여소_ID\"]!=bicycle[\"종료_대여소_ID\"]]\n",
        "\n",
        "# 뒤에서 대여소 위치 데이터와 merge 위해서 형태 변경\n",
        "bicycle['시작_대여소_ID'] = bicycle['시작_대여소_ID'].str.split('-').str[1]\n",
        "bicycle['종료_대여소_ID'] = bicycle['종료_대여소_ID'].str.split('-').str[1]\n",
        "bicycle = bicycle.iloc[:,:5]\n",
        "\n",
        "# 날짜랑 시간 datetime 형식으로 변경\n",
        "bicycle['기준_시간대']=bicycle['기준_시간대'].apply(lambda x: \"\".join([str(x).zfill(4)[:2],'00']))\n",
        "day_time=bicycle['기준_날짜'].astype(str)+bicycle['기준_시간대']\n",
        "bicycle['기준_날짜시간']=pd.to_datetime(day_time,format=\"%Y%m%d%H%M\")\n",
        "\n",
        "# 요일값 추가\n",
        "days=['월','화','수','목','금','토','일']\n",
        "bicycle['weekday']=bicycle['기준_날짜시간'].dt.weekday\n",
        "bicycle['요일']=bicycle.apply(lambda x: days[x['weekday']], axis=1)\n",
        "\n",
        "bicycle=bicycle.iloc[:,2:]\n",
        "bicycle.drop('weekday', axis=1, inplace=True)\n",
        "\n",
        "bicycle.sort_values('기준_날짜시간',inplace=True)\n",
        "bicycle.reset_index(drop=True,inplace=True)\n",
        "\n",
        "bicycle['시작_대여소_ID']=bicycle['시작_대여소_ID'].astype(int)\n",
        "bicycle['종료_대여소_ID']=bicycle['종료_대여소_ID'].astype(int)\n",
        "\n",
        "bicycle"
      ]
    },
    {
      "cell_type": "markdown",
      "metadata": {
        "id": "e1WfNlo0ojRd"
      },
      "source": [
        "- 2. 전처리 _ 서울특별시 따릉이대여소 마스터 정보"
      ]
    },
    {
      "cell_type": "code",
      "execution_count": null,
      "metadata": {
        "id": "slVAIwERpXQS"
      },
      "outputs": [],
      "source": [
        "# 해당 부분은 시각화를 위한 df 전처리 코드로 Merge한 최종 df와 관련 없습니다\n",
        "location=pd.read_csv(\"서울시 따릉이대여소 마스터 정보.csv\",encoding='cp949')\n",
        "location=location.iloc[:,[0,3,4]]\n",
        "\n",
        "bicycle_tmp['시작_대여소_ID'] = bicycle_tmp['시작_대여소_ID'].str.split('-').str[1]\n",
        "bicycle_tmp['종료_대여소_ID'] = bicycle_tmp['종료_대여소_ID'].str.split('-').str[1]\n",
        "bicycle_tmp = bicycle_tmp.iloc[:,:4]\n",
        "bicycle_tmp=bicycle_tmp[bicycle_tmp[\"시작_대여소_ID\"]!=bicycle_tmp[\"종료_대여소_ID\"]]\n",
        "\n",
        "bicycle_tmp['기준_시간대']=bicycle_tmp['기준_시간대'].apply(lambda x: str(x).zfill(4))\n",
        "day_time=bicycle_tmp['기준_날짜'].astype(str)+bicycle_tmp['기준_시간대']\n",
        "bicycle_tmp['기준_날짜시간']=pd.to_datetime(day_time,format=\"%Y%m%d%H%M\")\n",
        "bicycle_tmp=bicycle_tmp.iloc[:,2:]\n",
        "\n",
        "bicycle_tmp.sort_values('기준_날짜시간',inplace=True)\n",
        "bicycle_tmp.reset_index(drop=True,inplace=True)\n",
        "\n",
        "bicycle_tmp['시작_대여소_ID']=bicycle_tmp['시작_대여소_ID'].astype(int)\n",
        "bicycle_tmp['종료_대여소_ID']=bicycle_tmp['종료_대여소_ID'].astype(int)\n",
        "\n",
        "bicycle_location=pd.merge(bicycle_tmp, location, how='left', left_on='시작_대여소_ID', right_on='대여소ID')\n",
        "bicycle_location.rename(columns={'좌표':'시작_좌표'},inplace=True)\n",
        "bicycle_location=pd.merge(bicycle_location, location, how='left', left_on='종료_대여소_ID', right_on='대여소ID')\n",
        "bicycle_location.rename(columns={'좌표':'종료_좌표'},inplace=True)\n",
        "bicycle_location=bicycle_location.iloc[:,[2,4,5,6,8,9,10]]\n",
        "\n",
        "bicycle_location"
      ]
    },
    {
      "cell_type": "markdown",
      "metadata": {
        "id": "VSl8KMYHXMSN"
      },
      "source": [
        "-----"
      ]
    },
    {
      "cell_type": "markdown",
      "metadata": {
        "id": "WrSBZ_xFXMSO"
      },
      "source": [
        "### 1. 시간별 대여소별 대여건수 + 날씨 정보(기온, 풍속)"
      ]
    },
    {
      "cell_type": "code",
      "execution_count": null,
      "metadata": {
        "id": "CewDiMhHXMSO",
        "outputId": "baf844fb-c301-4bf8-b232-6bb565ccc597"
      },
      "outputs": [
        {
          "data": {
            "text/html": [
              "<div>\n",
              "<style scoped>\n",
              "    .dataframe tbody tr th:only-of-type {\n",
              "        vertical-align: middle;\n",
              "    }\n",
              "\n",
              "    .dataframe tbody tr th {\n",
              "        vertical-align: top;\n",
              "    }\n",
              "\n",
              "    .dataframe thead th {\n",
              "        text-align: right;\n",
              "    }\n",
              "</style>\n",
              "<table border=\"1\" class=\"dataframe\">\n",
              "  <thead>\n",
              "    <tr style=\"text-align: right;\">\n",
              "      <th></th>\n",
              "      <th>기준_날짜시간</th>\n",
              "      <th>요일</th>\n",
              "      <th>시작_대여소_ID</th>\n",
              "      <th>대여건수</th>\n",
              "    </tr>\n",
              "  </thead>\n",
              "  <tbody>\n",
              "    <tr>\n",
              "      <th>0</th>\n",
              "      <td>2022-01-01 00:00:00</td>\n",
              "      <td>토</td>\n",
              "      <td>5</td>\n",
              "      <td>2</td>\n",
              "    </tr>\n",
              "    <tr>\n",
              "      <th>1</th>\n",
              "      <td>2022-01-01 00:00:00</td>\n",
              "      <td>토</td>\n",
              "      <td>7</td>\n",
              "      <td>2</td>\n",
              "    </tr>\n",
              "    <tr>\n",
              "      <th>2</th>\n",
              "      <td>2022-01-01 00:00:00</td>\n",
              "      <td>토</td>\n",
              "      <td>9</td>\n",
              "      <td>1</td>\n",
              "    </tr>\n",
              "    <tr>\n",
              "      <th>3</th>\n",
              "      <td>2022-01-01 00:00:00</td>\n",
              "      <td>토</td>\n",
              "      <td>16</td>\n",
              "      <td>1</td>\n",
              "    </tr>\n",
              "    <tr>\n",
              "      <th>4</th>\n",
              "      <td>2022-01-01 00:00:00</td>\n",
              "      <td>토</td>\n",
              "      <td>20</td>\n",
              "      <td>2</td>\n",
              "    </tr>\n",
              "    <tr>\n",
              "      <th>...</th>\n",
              "      <td>...</td>\n",
              "      <td>...</td>\n",
              "      <td>...</td>\n",
              "      <td>...</td>\n",
              "    </tr>\n",
              "    <tr>\n",
              "      <th>7091696</th>\n",
              "      <td>2022-07-31 23:00:00</td>\n",
              "      <td>일</td>\n",
              "      <td>3047</td>\n",
              "      <td>2</td>\n",
              "    </tr>\n",
              "    <tr>\n",
              "      <th>7091697</th>\n",
              "      <td>2022-07-31 23:00:00</td>\n",
              "      <td>일</td>\n",
              "      <td>3051</td>\n",
              "      <td>4</td>\n",
              "    </tr>\n",
              "    <tr>\n",
              "      <th>7091698</th>\n",
              "      <td>2022-07-31 23:00:00</td>\n",
              "      <td>일</td>\n",
              "      <td>3060</td>\n",
              "      <td>2</td>\n",
              "    </tr>\n",
              "    <tr>\n",
              "      <th>7091699</th>\n",
              "      <td>2022-07-31 23:00:00</td>\n",
              "      <td>일</td>\n",
              "      <td>3094</td>\n",
              "      <td>2</td>\n",
              "    </tr>\n",
              "    <tr>\n",
              "      <th>7091700</th>\n",
              "      <td>2022-07-31 23:00:00</td>\n",
              "      <td>일</td>\n",
              "      <td>3104</td>\n",
              "      <td>7</td>\n",
              "    </tr>\n",
              "  </tbody>\n",
              "</table>\n",
              "<p>7091701 rows × 4 columns</p>\n",
              "</div>"
            ],
            "text/plain": [
              "                    기준_날짜시간 요일  시작_대여소_ID  대여건수\n",
              "0       2022-01-01 00:00:00  토          5     2\n",
              "1       2022-01-01 00:00:00  토          7     2\n",
              "2       2022-01-01 00:00:00  토          9     1\n",
              "3       2022-01-01 00:00:00  토         16     1\n",
              "4       2022-01-01 00:00:00  토         20     2\n",
              "...                     ... ..        ...   ...\n",
              "7091696 2022-07-31 23:00:00  일       3047     2\n",
              "7091697 2022-07-31 23:00:00  일       3051     4\n",
              "7091698 2022-07-31 23:00:00  일       3060     2\n",
              "7091699 2022-07-31 23:00:00  일       3094     2\n",
              "7091700 2022-07-31 23:00:00  일       3104     7\n",
              "\n",
              "[7091701 rows x 4 columns]"
            ]
          },
          "execution_count": 21,
          "metadata": {},
          "output_type": "execute_result"
        }
      ],
      "source": [
        "bicycle_rental=pd.pivot_table(bicycle,index=[\"기준_날짜시간\",\"요일\",\"시작_대여소_ID\"],values=\"전체_건수\",aggfunc='sum')\n",
        "bicycle_rental.reset_index(inplace=True)\n",
        "bicycle_rental.rename(columns={'전체_건수':'대여건수'},inplace=True)\n",
        "bicycle_rental"
      ]
    },
    {
      "cell_type": "code",
      "execution_count": null,
      "metadata": {
        "id": "SYQhLVqtXMSP",
        "outputId": "e89b60a0-cf40-45ca-b00c-2ed09be4960a"
      },
      "outputs": [
        {
          "data": {
            "text/html": [
              "<div>\n",
              "<style scoped>\n",
              "    .dataframe tbody tr th:only-of-type {\n",
              "        vertical-align: middle;\n",
              "    }\n",
              "\n",
              "    .dataframe tbody tr th {\n",
              "        vertical-align: top;\n",
              "    }\n",
              "\n",
              "    .dataframe thead th {\n",
              "        text-align: right;\n",
              "    }\n",
              "</style>\n",
              "<table border=\"1\" class=\"dataframe\">\n",
              "  <thead>\n",
              "    <tr style=\"text-align: right;\">\n",
              "      <th></th>\n",
              "      <th>기온</th>\n",
              "      <th>풍속</th>\n",
              "      <th>습도</th>\n",
              "      <th>기준_날짜시간</th>\n",
              "    </tr>\n",
              "  </thead>\n",
              "  <tbody>\n",
              "    <tr>\n",
              "      <th>0</th>\n",
              "      <td>-8.5</td>\n",
              "      <td>1.9</td>\n",
              "      <td>41</td>\n",
              "      <td>2022-01-01 00:00:00</td>\n",
              "    </tr>\n",
              "    <tr>\n",
              "      <th>1</th>\n",
              "      <td>-9.2</td>\n",
              "      <td>1.8</td>\n",
              "      <td>42</td>\n",
              "      <td>2022-01-01 01:00:00</td>\n",
              "    </tr>\n",
              "    <tr>\n",
              "      <th>2</th>\n",
              "      <td>-9.5</td>\n",
              "      <td>1.2</td>\n",
              "      <td>43</td>\n",
              "      <td>2022-01-01 02:00:00</td>\n",
              "    </tr>\n",
              "    <tr>\n",
              "      <th>3</th>\n",
              "      <td>-9.3</td>\n",
              "      <td>1.4</td>\n",
              "      <td>46</td>\n",
              "      <td>2022-01-01 03:00:00</td>\n",
              "    </tr>\n",
              "    <tr>\n",
              "      <th>4</th>\n",
              "      <td>-9.6</td>\n",
              "      <td>1.7</td>\n",
              "      <td>48</td>\n",
              "      <td>2022-01-01 04:00:00</td>\n",
              "    </tr>\n",
              "    <tr>\n",
              "      <th>...</th>\n",
              "      <td>...</td>\n",
              "      <td>...</td>\n",
              "      <td>...</td>\n",
              "      <td>...</td>\n",
              "    </tr>\n",
              "    <tr>\n",
              "      <th>5083</th>\n",
              "      <td>26.7</td>\n",
              "      <td>2.3</td>\n",
              "      <td>92</td>\n",
              "      <td>2022-07-31 19:00:00</td>\n",
              "    </tr>\n",
              "    <tr>\n",
              "      <th>5084</th>\n",
              "      <td>26.4</td>\n",
              "      <td>2.8</td>\n",
              "      <td>93</td>\n",
              "      <td>2022-07-31 20:00:00</td>\n",
              "    </tr>\n",
              "    <tr>\n",
              "      <th>5085</th>\n",
              "      <td>26.0</td>\n",
              "      <td>2.3</td>\n",
              "      <td>94</td>\n",
              "      <td>2022-07-31 21:00:00</td>\n",
              "    </tr>\n",
              "    <tr>\n",
              "      <th>5086</th>\n",
              "      <td>25.7</td>\n",
              "      <td>2.3</td>\n",
              "      <td>95</td>\n",
              "      <td>2022-07-31 22:00:00</td>\n",
              "    </tr>\n",
              "    <tr>\n",
              "      <th>5087</th>\n",
              "      <td>25.5</td>\n",
              "      <td>2.5</td>\n",
              "      <td>95</td>\n",
              "      <td>2022-07-31 23:00:00</td>\n",
              "    </tr>\n",
              "  </tbody>\n",
              "</table>\n",
              "<p>5088 rows × 4 columns</p>\n",
              "</div>"
            ],
            "text/plain": [
              "        기온   풍속  습도             기준_날짜시간\n",
              "0     -8.5  1.9  41 2022-01-01 00:00:00\n",
              "1     -9.2  1.8  42 2022-01-01 01:00:00\n",
              "2     -9.5  1.2  43 2022-01-01 02:00:00\n",
              "3     -9.3  1.4  46 2022-01-01 03:00:00\n",
              "4     -9.6  1.7  48 2022-01-01 04:00:00\n",
              "...    ...  ...  ..                 ...\n",
              "5083  26.7  2.3  92 2022-07-31 19:00:00\n",
              "5084  26.4  2.8  93 2022-07-31 20:00:00\n",
              "5085  26.0  2.3  94 2022-07-31 21:00:00\n",
              "5086  25.7  2.3  95 2022-07-31 22:00:00\n",
              "5087  25.5  2.5  95 2022-07-31 23:00:00\n",
              "\n",
              "[5088 rows x 4 columns]"
            ]
          },
          "execution_count": 30,
          "metadata": {},
          "output_type": "execute_result"
        }
      ],
      "source": [
        "temperature=pd.read_csv(\"OBS_ASOS_TIM_20221013044255.csv\",encoding='cp949')\n",
        "temperature['기준_날짜시간']=pd.to_datetime(temperature['일시'],format=\"%Y-%m-%d %H:%M\")\n",
        "temperature=temperature.iloc[:,3:]\n",
        "temperature.columns=['기온','풍속','습도','기준_날짜시간']\n",
        "temperature"
      ]
    },
    {
      "cell_type": "code",
      "execution_count": null,
      "metadata": {
        "id": "RIOLg5DHXMSP",
        "outputId": "7682847a-05af-4401-cfa3-da4fd0a96ef5"
      },
      "outputs": [
        {
          "data": {
            "text/html": [
              "<div>\n",
              "<style scoped>\n",
              "    .dataframe tbody tr th:only-of-type {\n",
              "        vertical-align: middle;\n",
              "    }\n",
              "\n",
              "    .dataframe tbody tr th {\n",
              "        vertical-align: top;\n",
              "    }\n",
              "\n",
              "    .dataframe thead th {\n",
              "        text-align: right;\n",
              "    }\n",
              "</style>\n",
              "<table border=\"1\" class=\"dataframe\">\n",
              "  <thead>\n",
              "    <tr style=\"text-align: right;\">\n",
              "      <th></th>\n",
              "      <th>기준_날짜시간</th>\n",
              "      <th>요일</th>\n",
              "      <th>시작_대여소_ID</th>\n",
              "      <th>대여건수</th>\n",
              "      <th>기온</th>\n",
              "      <th>풍속</th>\n",
              "      <th>습도</th>\n",
              "    </tr>\n",
              "  </thead>\n",
              "  <tbody>\n",
              "    <tr>\n",
              "      <th>0</th>\n",
              "      <td>2022-01-01 00:00:00</td>\n",
              "      <td>토</td>\n",
              "      <td>5</td>\n",
              "      <td>2</td>\n",
              "      <td>-8.5</td>\n",
              "      <td>1.9</td>\n",
              "      <td>41</td>\n",
              "    </tr>\n",
              "    <tr>\n",
              "      <th>1</th>\n",
              "      <td>2022-01-01 00:00:00</td>\n",
              "      <td>토</td>\n",
              "      <td>7</td>\n",
              "      <td>2</td>\n",
              "      <td>-8.5</td>\n",
              "      <td>1.9</td>\n",
              "      <td>41</td>\n",
              "    </tr>\n",
              "    <tr>\n",
              "      <th>2</th>\n",
              "      <td>2022-01-01 00:00:00</td>\n",
              "      <td>토</td>\n",
              "      <td>9</td>\n",
              "      <td>1</td>\n",
              "      <td>-8.5</td>\n",
              "      <td>1.9</td>\n",
              "      <td>41</td>\n",
              "    </tr>\n",
              "    <tr>\n",
              "      <th>3</th>\n",
              "      <td>2022-01-01 00:00:00</td>\n",
              "      <td>토</td>\n",
              "      <td>16</td>\n",
              "      <td>1</td>\n",
              "      <td>-8.5</td>\n",
              "      <td>1.9</td>\n",
              "      <td>41</td>\n",
              "    </tr>\n",
              "    <tr>\n",
              "      <th>4</th>\n",
              "      <td>2022-01-01 00:00:00</td>\n",
              "      <td>토</td>\n",
              "      <td>20</td>\n",
              "      <td>2</td>\n",
              "      <td>-8.5</td>\n",
              "      <td>1.9</td>\n",
              "      <td>41</td>\n",
              "    </tr>\n",
              "    <tr>\n",
              "      <th>...</th>\n",
              "      <td>...</td>\n",
              "      <td>...</td>\n",
              "      <td>...</td>\n",
              "      <td>...</td>\n",
              "      <td>...</td>\n",
              "      <td>...</td>\n",
              "      <td>...</td>\n",
              "    </tr>\n",
              "    <tr>\n",
              "      <th>7091696</th>\n",
              "      <td>2022-07-31 23:00:00</td>\n",
              "      <td>일</td>\n",
              "      <td>3047</td>\n",
              "      <td>2</td>\n",
              "      <td>25.5</td>\n",
              "      <td>2.5</td>\n",
              "      <td>95</td>\n",
              "    </tr>\n",
              "    <tr>\n",
              "      <th>7091697</th>\n",
              "      <td>2022-07-31 23:00:00</td>\n",
              "      <td>일</td>\n",
              "      <td>3051</td>\n",
              "      <td>4</td>\n",
              "      <td>25.5</td>\n",
              "      <td>2.5</td>\n",
              "      <td>95</td>\n",
              "    </tr>\n",
              "    <tr>\n",
              "      <th>7091698</th>\n",
              "      <td>2022-07-31 23:00:00</td>\n",
              "      <td>일</td>\n",
              "      <td>3060</td>\n",
              "      <td>2</td>\n",
              "      <td>25.5</td>\n",
              "      <td>2.5</td>\n",
              "      <td>95</td>\n",
              "    </tr>\n",
              "    <tr>\n",
              "      <th>7091699</th>\n",
              "      <td>2022-07-31 23:00:00</td>\n",
              "      <td>일</td>\n",
              "      <td>3094</td>\n",
              "      <td>2</td>\n",
              "      <td>25.5</td>\n",
              "      <td>2.5</td>\n",
              "      <td>95</td>\n",
              "    </tr>\n",
              "    <tr>\n",
              "      <th>7091700</th>\n",
              "      <td>2022-07-31 23:00:00</td>\n",
              "      <td>일</td>\n",
              "      <td>3104</td>\n",
              "      <td>7</td>\n",
              "      <td>25.5</td>\n",
              "      <td>2.5</td>\n",
              "      <td>95</td>\n",
              "    </tr>\n",
              "  </tbody>\n",
              "</table>\n",
              "<p>7091701 rows × 7 columns</p>\n",
              "</div>"
            ],
            "text/plain": [
              "                    기준_날짜시간 요일  시작_대여소_ID  대여건수    기온   풍속  습도\n",
              "0       2022-01-01 00:00:00  토          5     2  -8.5  1.9  41\n",
              "1       2022-01-01 00:00:00  토          7     2  -8.5  1.9  41\n",
              "2       2022-01-01 00:00:00  토          9     1  -8.5  1.9  41\n",
              "3       2022-01-01 00:00:00  토         16     1  -8.5  1.9  41\n",
              "4       2022-01-01 00:00:00  토         20     2  -8.5  1.9  41\n",
              "...                     ... ..        ...   ...   ...  ...  ..\n",
              "7091696 2022-07-31 23:00:00  일       3047     2  25.5  2.5  95\n",
              "7091697 2022-07-31 23:00:00  일       3051     4  25.5  2.5  95\n",
              "7091698 2022-07-31 23:00:00  일       3060     2  25.5  2.5  95\n",
              "7091699 2022-07-31 23:00:00  일       3094     2  25.5  2.5  95\n",
              "7091700 2022-07-31 23:00:00  일       3104     7  25.5  2.5  95\n",
              "\n",
              "[7091701 rows x 7 columns]"
            ]
          },
          "execution_count": 106,
          "metadata": {},
          "output_type": "execute_result"
        }
      ],
      "source": [
        "bicycle_temperature=pd.merge(bicycle_rental, temperature, on='기준_날짜시간')\n",
        "bicycle_temperature"
      ]
    },
    {
      "cell_type": "code",
      "execution_count": null,
      "metadata": {
        "id": "Ohy0uFIDgbML"
      },
      "outputs": [],
      "source": [
        "bicycle_temperature.to_csv('bicycle_temperature.csv', encoding='cp949')"
      ]
    },
    {
      "cell_type": "markdown",
      "metadata": {
        "id": "u06GaR5Z8oMr"
      },
      "source": [
        "----------"
      ]
    },
    {
      "cell_type": "markdown",
      "metadata": {
        "id": "vPpESu9k8s1a"
      },
      "source": [
        "### 2. 고도, 주변 정류장 수 Merge"
      ]
    },
    {
      "cell_type": "code",
      "execution_count": null,
      "metadata": {
        "colab": {
          "base_uri": "https://localhost:8080/"
        },
        "id": "I2bLmRhAZdlC",
        "outputId": "72149827-8807-485a-c423-fc63034ffd42"
      },
      "outputs": [
        {
          "name": "stdout",
          "output_type": "stream",
          "text": [
            "Looking in indexes: https://pypi.org/simple, https://us-python.pkg.dev/colab-wheels/public/simple/\n",
            "Collecting geopandas\n",
            "  Downloading geopandas-0.10.2-py2.py3-none-any.whl (1.0 MB)\n",
            "\u001b[K     |████████████████████████████████| 1.0 MB 11.9 MB/s \n",
            "\u001b[?25hCollecting fiona>=1.8\n",
            "  Downloading Fiona-1.8.21-cp37-cp37m-manylinux2014_x86_64.whl (16.7 MB)\n",
            "\u001b[K     |████████████████████████████████| 16.7 MB 491 kB/s \n",
            "\u001b[?25hCollecting pyproj>=2.2.0\n",
            "  Downloading pyproj-3.2.1-cp37-cp37m-manylinux2010_x86_64.whl (6.3 MB)\n",
            "\u001b[K     |████████████████████████████████| 6.3 MB 60.3 MB/s \n",
            "\u001b[?25hRequirement already satisfied: shapely>=1.6 in /usr/local/lib/python3.7/dist-packages (from geopandas) (1.8.4)\n",
            "Requirement already satisfied: pandas>=0.25.0 in /usr/local/lib/python3.7/dist-packages (from geopandas) (1.3.5)\n",
            "Requirement already satisfied: certifi in /usr/local/lib/python3.7/dist-packages (from fiona>=1.8->geopandas) (2022.9.24)\n",
            "Requirement already satisfied: setuptools in /usr/local/lib/python3.7/dist-packages (from fiona>=1.8->geopandas) (57.4.0)\n",
            "Requirement already satisfied: click>=4.0 in /usr/local/lib/python3.7/dist-packages (from fiona>=1.8->geopandas) (7.1.2)\n",
            "Requirement already satisfied: six>=1.7 in /usr/local/lib/python3.7/dist-packages (from fiona>=1.8->geopandas) (1.15.0)\n",
            "Collecting click-plugins>=1.0\n",
            "  Downloading click_plugins-1.1.1-py2.py3-none-any.whl (7.5 kB)\n",
            "Collecting munch\n",
            "  Downloading munch-2.5.0-py2.py3-none-any.whl (10 kB)\n",
            "Collecting cligj>=0.5\n",
            "  Downloading cligj-0.7.2-py3-none-any.whl (7.1 kB)\n",
            "Requirement already satisfied: attrs>=17 in /usr/local/lib/python3.7/dist-packages (from fiona>=1.8->geopandas) (22.1.0)\n",
            "Requirement already satisfied: pytz>=2017.3 in /usr/local/lib/python3.7/dist-packages (from pandas>=0.25.0->geopandas) (2022.4)\n",
            "Requirement already satisfied: python-dateutil>=2.7.3 in /usr/local/lib/python3.7/dist-packages (from pandas>=0.25.0->geopandas) (2.8.2)\n",
            "Requirement already satisfied: numpy>=1.17.3 in /usr/local/lib/python3.7/dist-packages (from pandas>=0.25.0->geopandas) (1.21.6)\n",
            "Installing collected packages: munch, cligj, click-plugins, pyproj, fiona, geopandas\n",
            "Successfully installed click-plugins-1.1.1 cligj-0.7.2 fiona-1.8.21 geopandas-0.10.2 munch-2.5.0 pyproj-3.2.1\n"
          ]
        }
      ],
      "source": [
        "try:\n",
        "    from haversine import haversine_vector\n",
        "except:\n",
        "    !pip install haversine\n",
        "    from haversine import haversine_vector\n",
        "\n",
        "try:\n",
        "    import geopandas as gpd\n",
        "except :\n",
        "    !pip install geopandas\n",
        "    import geopandas as gpd"
      ]
    },
    {
      "cell_type": "code",
      "execution_count": null,
      "metadata": {
        "id": "8pNsY0-J8pJr"
      },
      "outputs": [],
      "source": [
        "import numpy as np\n",
        "import pandas as pd\n",
        "from pathlib import Path\n",
        "\n",
        "def add_num_bus(df: pd.DataFrame) -> pd.DataFrame:\n",
        "    bus_stop = pd.read_csv(\"./data/BUS_STATION_BOARDING_MONTH_202209.csv\", encoding=\"cp949\")\n",
        "    bus_stop = bus_stop[bus_stop[\"표준버스정류장ID\"] <= 124900137]\n",
        "    bus_stop = bus_stop.sort_values(\"표준버스정류장ID\")\n",
        "    bus_stop = (\n",
        "        bus_stop[[\"표준버스정류장ID\", \"노선명\"]]\n",
        "        .groupby([\"표준버스정류장ID\", \"노선명\"])\n",
        "        .count()\n",
        "        .reset_index()\n",
        "    )\n",
        "    bus_stop[\"const\"] = 1\n",
        "    bus_stop = bus_stop.groupby(\"표준버스정류장ID\").sum().reset_index()\n",
        "    bus_stop = bus_stop.rename(columns={\"표준버스정류장ID\": \"인근정거장\", \"const\": \"다니는버스수\"})\n",
        "    df[\"인근정거장\"] = df[\"인근정거장\"].fillna(-1).astype(int)\n",
        "    return df.merge(bus_stop, how=\"left\", left_on=\"인근정거장\", right_on=\"인근정거장\")\n",
        "\n",
        "\n",
        "def find_nearest(\n",
        "    df: pd.DataFrame, lat: np.ndarray, lng: np.ndarray, target: np.ndarray\n",
        "):\n",
        "    assert lat.ndim == lng.ndim == target.ndim == 1\n",
        "    assert lat.shape[0] == lng.shape[0] == target.shape[0]\n",
        "\n",
        "    tgt: np.ndarray = np.vstack([lat, lng]).T\n",
        "    assert tgt.shape[0] == lat.shape[0]\n",
        "\n",
        "    answer = []\n",
        "    for i, row in df.iterrows():\n",
        "        yx = row[[\"위도\", \"경도\"]].values.reshape(1, 2).astype(float)\n",
        "        yx = np.repeat(yx, len(tgt), axis=0)\n",
        "        answer.append(haversine_vector(yx, tgt))\n",
        "    answer\n",
        "    idx = np.argmin(np.vstack(answer), axis=-1)\n",
        "    return target[idx]\n",
        "\n",
        "\n",
        "def add_dem_feature(df: pd.DataFrame):\n",
        "    dem = []\n",
        "    for dem_path in Path(\"./dataDEM/서울특별시/2014 서울특별시[ascii]\").glob(\"*.txt\"):\n",
        "        dem.append(pd.read_csv(dem_path, sep=\" \", header=None))\n",
        "    dem = pd.concat(dem).reset_index(drop=True)\n",
        "    dem.columns = [\"x\", \"y\", \"z\"]\n",
        "    dem = gpd.GeoDataFrame(\n",
        "        data=dem.z, geometry=gpd.points_from_xy(x=dem.x, y=dem.y), crs=\"EPSG:5186\",\n",
        "    )\n",
        "    dem = dem.to_crs(\"EPSG:4326\")\n",
        "\n",
        "    x_std, y_std = df[\"경도\"].std(), df[\"위도\"].std()\n",
        "    x_candidates: np.ndarray = dem.geometry.x.values\n",
        "    y_candidates: np.ndarray = dem.geometry.y.values\n",
        "\n",
        "    df_chunks = []\n",
        "    for i in range(0, 3500, 500,):\n",
        "        df_chunk = df[i : i + 500].reset_index(drop=True)\n",
        "        x = df_chunk[\"경도\"].values.reshape(-1, 1)\n",
        "        y = df_chunk[\"위도\"].values.reshape(-1, 1)\n",
        "        indices = np.argmin(\n",
        "            np.abs(x - x_candidates) / x_std + np.abs(y - y_candidates) / y_std, axis=-1\n",
        "        )\n",
        "        df_chunk[\"dem\"] = dem.loc[indices, \"z\"].values\n",
        "        df_chunks.append(df_chunk)\n",
        "\n",
        "    return pd.concat(df_chunks)"
      ]
    },
    {
      "cell_type": "markdown",
      "metadata": {
        "id": "qCfo9Yyh84_B"
      },
      "source": [
        "----------"
      ]
    },
    {
      "cell_type": "code",
      "execution_count": null,
      "metadata": {
        "id": "gXZiiXmMYriA"
      },
      "outputs": [],
      "source": [
        "from typing import Callable\n",
        "def iief(func: Callable):\n",
        "    \"\"\"전역 네임스페이스 오염을 막기 위해 IIEF를 선언했습니다.\n",
        "    데코레이터처럼 사용하려고 합니다.\"\"\"\n",
        "\n",
        "    func()"
      ]
    },
    {
      "cell_type": "code",
      "execution_count": null,
      "metadata": {
        "id": "xO9wwJvwYNUk"
      },
      "outputs": [],
      "source": [
        "@iief\n",
        "def _():\n",
        "    \"\"\" 고도와 주변 정류장 수를 Merge하고 완료된 파일을\n",
        "    `./merged_data/서울시_따릉이대여소별_고도_지하철역_정거장매핑.csv`에 저장합니다.   \"\"\"\n",
        "    df = pd.read_csv(\"./data/서울시-따릉이대여소-마스터-정보.csv\",encoding='cp949')\n",
        "    df = add_dem_feature(df)\n",
        "\n",
        "    N: int = len(df)\n",
        "\n",
        "    temp = df[df[\"위도\"] == 0.0]\n",
        "    df = df[df[\"위도\"] > 0.0]\n",
        "\n",
        "    target_df = pd.read_csv(\n",
        "        \"./data/서울교통공사_1_8호선 역사 좌표(위경도) 정보_20211231.csv\", encoding=\"cp949\"\n",
        "    )\n",
        "    df[\"인근역\"] = find_nearest(\n",
        "        df, target_df[\"위도\"].values, target_df[\"경도\"].values, target_df[\"역명\"].values\n",
        "    )\n",
        "\n",
        "    target_df = pd.read_csv(\n",
        "        \"./data/서울시버스정류소좌표데이터(2022.08.24).csv\", encoding=\"cp949\"\n",
        "    )\n",
        "\n",
        "    df[\"인근정거장\"] = find_nearest(\n",
        "        df,\n",
        "        target_df[\"좌표Y\"].values,\n",
        "        target_df[\"좌표X\"].values,\n",
        "        target_df[\"NODE_ID\"].values,\n",
        "    )\n",
        "    df = pd.concat([temp, df]).sort_index()\n",
        "\n",
        "    assert N == len(df)\n",
        "    df = add_num_bus(df)\n",
        "\n",
        "    df.to_csv(\"./merged_data/서울시_따릉이대여소별_고도_지하철역_정거장매핑.csv\", index=False)\n"
      ]
    },
    {
      "cell_type": "markdown",
      "metadata": {
        "id": "pEah4mDA863x"
      },
      "source": [
        "### 3. 주변 대중교통 이용자수 Merge"
      ]
    },
    {
      "cell_type": "markdown",
      "metadata": {
        "id": "xMzAj084Wwa-"
      },
      "source": [
        "자전거 대여를 기준으로 보았을 때, 대중교통 승차 대신 하차가 직접적인 관여를 하기 때문에, 하차 승객 수에 대한 데이터를 추출한다."
      ]
    },
    {
      "cell_type": "code",
      "execution_count": null,
      "metadata": {
        "id": "D3x6k5NK86HO"
      },
      "outputs": [],
      "source": [
        "CONST_DIR_BUSDATA_TIME = \"./data/서울시 버스노선별 정류장별 시간대별 승하차 인원 정보\"\n",
        "CONST_DIR_BUSDATA_MONTH = \"./data/서울시 버스노선별 정류장별 승하차 인원 정보\"\n",
        "CONST_DIR_MERGEDATA = \"./merged_data\"\n",
        "\n",
        "CONST_LIST_COLUMNS = ['00시하차총승객수', '1시하차총승객수', '2시하차총승객수', '3시하차총승객수', '4시하차총승객수', '5시하차총승객수', '6시하차총승객수', '7시하차총승객수', '8시하차총승객수', '9시하차총승객수', '10시하차총승객수', '11시하차총승객수', '12시하차총승객수', '13시하차총승객수', '14시하차총승객수', '15시하차총승객수', '16시하차총승객수', '17시하차총승객수', '18시하차총승객수', '19시하차총승객수', '20시하차총승객수', '21시하차총승객수', '22시하차총승객수', '23시하차총승객수']"
      ]
    },
    {
      "cell_type": "code",
      "execution_count": null,
      "metadata": {
        "id": "O6UfnqDQG0zc"
      },
      "outputs": [],
      "source": [
        "time_file_list = os.listdir(CONST_DIR_BUSDATA_TIME)\n",
        "time_file_list.remove(\".DS_Store\")\n",
        "time_file_list.sort()\n",
        "time_file_list\n",
        "\n",
        "month_file_list = os.listdir(CONST_DIR_BUSDATA_MONTH)\n",
        "month_file_list.remove(\".DS_Store\")\n",
        "month_file_list.sort()\n",
        "month_file_list"
      ]
    },
    {
      "cell_type": "code",
      "execution_count": null,
      "metadata": {
        "id": "0t7drib3G4tD"
      },
      "outputs": [],
      "source": [
        "def merged_bus_df(path1, path2, bus_id_list):\n",
        "    time_data_path = os.path.join(CONST_DIR_BUSDATA_TIME, path1)\n",
        "    time_df = pd.read_csv(time_data_path, encoding=\"cp949\")\n",
        "    # 대여소별 대여 개수를 예측하는 것이기 때문에 승차 승객이 아닌 하차 승객을 비교 대상으로 선정한다.\n",
        "    col_list = list(time_df.columns)\n",
        "    for col in col_list:\n",
        "        if \"승차\" in col:\n",
        "            col_list.remove(col)\n",
        "\n",
        "    col_list.remove(\"등록일자\")\n",
        "    # print(\"time columns: \", col_list)\n",
        "    time_df = time_df[col_list]\n",
        "    # time_df = time_df.groupby([\"사용년월\", \"표준버스정류장ID\", \"버스정류장ARS번호\", \"역명\"]).sum().reset_index(drop=False)\n",
        "    time_df['total'] = time_df[CONST_LIST_COLUMNS].sum(axis=1)\n",
        "    for col in CONST_LIST_COLUMNS:\n",
        "        time_df[col] = time_df[col]/time_df['total']\n",
        "\n",
        "    time_df.fillna(0,inplace=True)\n",
        "    time_df['표준버스정류장ID'] = time_df['표준버스정류장ID'].astype(int)\n",
        "    time_df[\"버스정류장ARS번호\"] = time_df[\"버스정류장ARS번호\"].astype(str)\n",
        "    for i in range(len(bus_id_list)):\n",
        "        df1 = time_df[time_df['표준버스정류장ID']== bus_id_list[i]].reset_index(drop=True)\n",
        "        if i ==0:\n",
        "            bus_time_df = df1\n",
        "        else:\n",
        "            bus_time_df = pd.concat((bus_time_df, df1), ignore_index=True)\n",
        "\n",
        "    month_data_path = os.path.join(CONST_DIR_BUSDATA_MONTH, path2)\n",
        "    month_df = pd.read_csv(month_data_path, encoding=\"cp949\")\n",
        "    month_df[\"버스정류장ARS번호\"] = month_df[\"버스정류장ARS번호\"].astype(str)\n",
        "    # print(\"month columns: \", list(month_df.columns))\n",
        "\n",
        "    if '표준버스정류장ID' in month_df.columns:\n",
        "        bus_df = pd.merge(month_df, bus_time_df, how='inner', left_on=['노선번호', '노선명', '표준버스정류장ID', '버스정류장ARS번호', '역명'], right_on=['노선번호', '노선명', '표준버스정류장ID', '버스정류장ARS번호', '역명'])\n",
        "    else:\n",
        "        bus_df = pd.merge(month_df, bus_time_df, how='inner', left_on=['노선번호', '노선명', '버스정류장ARS번호', '역명'], right_on=['노선번호', '노선명', '버스정류장ARS번호', '역명'])\n",
        "    for col in CONST_LIST_COLUMNS:\n",
        "            bus_df[col] = bus_df['하차총승객수'] * bus_df[col]\n",
        "            bus_df[col] = bus_df[col].round().astype(int)\n",
        "    bus_df['total'] = bus_df[CONST_LIST_COLUMNS].sum(axis=1)\n",
        "    # print(bus_df.columns)\n",
        "    if \"표준버스정류장ID\" in bus_df.columns:\n",
        "        bus_df = bus_df.groupby([\"사용일자\", \"표준버스정류장ID\", \"버스정류장ARS번호\", \"역명\"]).sum()[CONST_LIST_COLUMNS].reset_index(drop=False)\n",
        "    elif \"표준버스정류장ID_y\" in bus_df.columns:\n",
        "        bus_df = bus_df.groupby([\"사용일자\", \"표준버스정류장ID\", \"버스정류장ARS번호\", \"역명\"]).sum()[CONST_LIST_COLUMNS].reset_index(drop=False)\n",
        "    else:\n",
        "        raise ValueError(f\"Can't fine '표준버스정류장ID' column in 'bus_df' columns:{list(bus_df.columns)}\")\n",
        "    return bus_df"
      ]
    },
    {
      "cell_type": "code",
      "execution_count": null,
      "metadata": {
        "id": "f7_oNvTCG9Pi"
      },
      "outputs": [],
      "source": [
        "# 대여소 인근 버스정류장 ID 추출\n",
        "CONST_PATH_DATA  = \"./merged_data/서울시_따릉이대여소별_고도_지하철역_정거장매핑.csv\"\n",
        "df = pd.read_csv(CONST_PATH_DATA)\n",
        "df = df.drop(df[df['위도']==0].index).reset_index(drop=True)\n",
        "df.isnull().sum()\n",
        "bus_id_list = list(df['인근정거장'].unique())"
      ]
    },
    {
      "cell_type": "code",
      "execution_count": null,
      "metadata": {
        "id": "LI4hfPtNHDg7"
      },
      "outputs": [],
      "source": [
        "for i in range(7):\n",
        "    path1 = time_file_list[i]\n",
        "    path2 = month_file_list[i]\n",
        "    print(f\"start to files {path1}, {path2}\")\n",
        "    df = merged_bus_df(path1, path2, bus_id_list)\n",
        "    if i == 0:\n",
        "        total_bus_df = df.copy()\n",
        "    else:\n",
        "        total_bus_df = pd.concat((total_bus_df, df), ignore_index=True)"
      ]
    },
    {
      "cell_type": "code",
      "execution_count": null,
      "metadata": {
        "id": "gu4Ijm5JHGUX"
      },
      "outputs": [],
      "source": [
        "df = total_bus_df[CONST_LIST_COLUMNS]\n",
        "df = df.transpose().reset_index(drop=False)\n",
        "df['index'] = df['index'].str[:-7].astype(int)\n",
        "df.set_index('index', inplace=True)"
      ]
    },
    {
      "cell_type": "code",
      "execution_count": null,
      "metadata": {
        "id": "aPKyTpPUHKiD"
      },
      "outputs": [],
      "source": [
        "for i in range(len(df.columns)):\n",
        "    print(f\"processing...{i+1}/{len(df.columns)}\")\n",
        "    col = list(df.columns)[i]\n",
        "    df1 = df[col].reset_index(drop=False)\n",
        "    df1.columns = [\"시간\", \"버스하차승객수\"]\n",
        "    for j in [\"사용일자\", \"표준버스정류장ID\", \"버스정류장ARS번호\", \"역명\"]:\n",
        "        df1[j] = \"\"\n",
        "        df1[j] = total_bus_df[j][col]\n",
        "    if i==0:\n",
        "        bus_df = df1\n",
        "    else:\n",
        "        bus_df = pd.concat((bus_df,df1), ignore_index=True)\n",
        "    del df1"
      ]
    },
    {
      "cell_type": "code",
      "execution_count": null,
      "metadata": {
        "id": "X4UqLNC4Hi84"
      },
      "outputs": [],
      "source": [
        "bus_df.to_csv(\"./merged_data/bus.csv\", encoding=\"utf-8\", index=False)"
      ]
    },
    {
      "cell_type": "markdown",
      "metadata": {
        "id": "ShuElPqIKAeJ"
      },
      "source": [
        "## 데이터 결합"
      ]
    },
    {
      "cell_type": "code",
      "execution_count": null,
      "metadata": {
        "id": "FtJsduIIKOhV"
      },
      "outputs": [],
      "source": [
        "dem_path = os.path.join(CONST_DIR_MERGEDATA, \"서울시_따릉이대여소별_고도_지하철역_정거장매핑.csv\")\n",
        "bus_path = os.path.join(CONST_DIR_MERGEDATA, \"bus.csv\")\n",
        "\n",
        "dem_df = pd.read_csv(dem_path, encoding='utf8')\n",
        "bus_df = pd.read_csv(bus_path, encoding='utf8')"
      ]
    },
    {
      "cell_type": "code",
      "execution_count": null,
      "metadata": {
        "id": "mIkTI8EPHrYl"
      },
      "outputs": [],
      "source": [
        "bicycle_temperature['대여소_ID'] = \"ST-\" + bicycle_temperature['시작_대여소_ID'].astype(str)\n",
        "bicycle_temperature"
      ]
    },
    {
      "cell_type": "code",
      "execution_count": null,
      "metadata": {
        "id": "UbpYzNW9WwbB"
      },
      "outputs": [],
      "source": [
        "df = pd.merge(bicycle_temperature, dem_df, how='left', on='대여소_ID')\n",
        "df = df[['기준_날짜시간', '요일', '대여건수', '기온', '풍속', '습도', '대여소_ID', 'dem', '인근역', '인근정거장', '다니는버스수']]\n",
        "df[\"사용일자\"] = df[\"기준_날짜시간\"].astype(str).str.split(\" \").str[0].str.replace('-', '').astype(int)\n",
        "df[\"시간\"] = df[\"기준_날짜시간\"].astype(str).str.split(\" \").str[1].str[:2].astype(int)\n",
        "bus_df = bus_df[['사용일자','시간', '표준버스정류장ID', '버스하차승객수']]\n",
        "df1 = pd.merge(df, bus_df, how = 'left', left_on=['사용일자', '시간', '인근정거장'], right_on=['사용일자', '시간', '표준버스정류장ID'])"
      ]
    },
    {
      "cell_type": "code",
      "execution_count": null,
      "metadata": {
        "id": "Mv9le0m4WwbB"
      },
      "outputs": [],
      "source": [
        "df1.to_csv(\"./merged_data/merged_data1.csv\", encoding='utf8', index=False)"
      ]
    },
    {
      "cell_type": "markdown",
      "metadata": {
        "id": "ZGBlGhQxh8RC"
      },
      "source": [
        "# 데이터 EDA 및 시각화"
      ]
    },
    {
      "cell_type": "markdown",
      "metadata": {
        "id": "gxFtxPj5jAab"
      },
      "source": [
        "- 따릉이 이용시간별 대여수 확인"
      ]
    },
    {
      "cell_type": "code",
      "execution_count": null,
      "metadata": {
        "id": "7c3QT2lLi6Dq"
      },
      "outputs": [],
      "source": [
        "bicycle_viz1=bicycle_tmp.copy()\n",
        "bicycle_viz1['기준_시간대']=bicycle_viz1['기준_시간대'].apply(lambda x: \"\".join([str(x).zfill(4)[:2],'00']))\n",
        "bicycle_viz1=pd.pivot_table(bicycle_viz1,index=\"기준_시간대\",values=\"전체_건수\",aggfunc='sum')\n",
        "bicycle_viz1.reset_index(inplace=True)\n",
        "\n",
        "plt.figure(figsize=(15,5))\n",
        "plt.bar(bicycle_viz1['기준_시간대'],bicycle_viz1['전체_건수'],color='plum')\n",
        "plt.show()"
      ]
    },
    {
      "cell_type": "markdown",
      "metadata": {
        "id": "JTD9P2vapnqZ"
      },
      "source": [
        "- 따릉이 대여/반환 지역 연결 지도 시각화"
      ]
    },
    {
      "cell_type": "code",
      "execution_count": null,
      "metadata": {
        "id": "2jGdHWFYpoCF"
      },
      "outputs": [],
      "source": [
        "bicycle_viz2=bicycle_location[[\"위도_x\",\"경도_x\",\"위도_y\",\"경도_y\",\"전체_건수\"]]\n",
        "bicycle_viz2=pd.pivot_table(bicycle_viz2,index=[\"위도_x\",\"경도_x\",\"위도_y\",\"경도_y\"],values=\"전체_건수\",aggfunc='sum')\n",
        "bicycle_viz2.reset_index(inplace=True)\n",
        "bicycle_viz2.rename(columns={'기준_날짜시간':'횟수'},inplace=True)\n",
        "\n",
        "# 대여-반환 경로 이용자수 4분위 수 구하기\n",
        "root_cnt=list(np.percentile(bicycle_viz2['횟수'].sort_values().unique(),[25,50,75],interpolation='nearest'))\n",
        "\n",
        "# 대여-반환 경로 이용자 수 별 df 분할\n",
        "bicycle_viz2_25=bicycle_viz2[bicycle_viz2['횟수']<root_cnt[0]]\n",
        "bicycle_viz2_50=bicycle_viz2[(bicycle_viz2['횟수']>=root_cnt[0]) & (bicycle_viz2['횟수']<root_cnt[1])]\n",
        "bicycle_viz2_75=bicycle_viz2[(bicycle_viz2['횟수']>=root_cnt[1]) & (bicycle_viz2['횟수']<root_cnt[2])]\n",
        "bicycle_viz2_100=bicycle_viz2[bicycle_viz2['횟수']>=root_cnt[2]]"
      ]
    },
    {
      "cell_type": "code",
      "execution_count": null,
      "metadata": {
        "id": "xKEsjKu7s-0K"
      },
      "outputs": [],
      "source": [
        "center = [37.541, 126.986]\n",
        "\n",
        "'''\n",
        "mapp = folium.Map(location=center, zoom_start=11)\n",
        "\n",
        "folium.PolyLine(\n",
        "    locations = [list(zip(bicycle_viz2_25['위도_x'],bicycle_viz2_25['경도_x'])),list(zip(bicycle_viz2_25['위도_y'],bicycle_viz2_25['경도_y']))],\n",
        "    opacity = 0.3 , color='red'\n",
        ").add_to(mapp)\n",
        "folium.PolyLine(\n",
        "    locations = [list(zip(bicycle_viz2_50['위도_x'],bicycle_viz2_50['경도_x'])),list(zip(bicycle_viz2_50['위도_y'],bicycle_viz2_50['경도_y']))],\n",
        "    opacity = 0.3 , color='green'\n",
        ").add_to(mapp)\n",
        "folium.PolyLine(\n",
        "    locations = [list(zip(bicycle_viz2_75['위도_x'],bicycle_viz2_75['경도_x'])),list(zip(bicycle_viz2_75['위도_y'],bicycle_viz2_75['경도_y']))],\n",
        "    opacity = 0.3 , color='blue'\n",
        ").add_to(mapp)\n",
        "folium.PolyLine(\n",
        "    locations = [list(zip(bicycle_viz2_100['위도_x'],bicycle_viz2_100['경도_x'])),list(zip(bicycle_viz2_100['위도_y'],bicycle_viz2_100['경도_y']))],\n",
        "    opacity = 0.3 , color='purple'\n",
        ").add_to(mapp)\n",
        "mapp\n",
        "'''"
      ]
    },
    {
      "cell_type": "markdown",
      "metadata": {
        "id": "SvbLAIzAv_5k"
      },
      "source": [
        "![map movement](https://user-images.githubusercontent.com/47911773/194584414-075d4c51-a782-45fd-b297-787a17387825.png)"
      ]
    },
    {
      "cell_type": "markdown",
      "metadata": {
        "id": "9DPcZdpHlY2J"
      },
      "source": [
        "- 주말 위치별 대여수 확인 (데이터 크기가 너무 커서 이미지로 대체)"
      ]
    },
    {
      "cell_type": "code",
      "execution_count": null,
      "metadata": {
        "id": "NU7khl8PmSJx"
      },
      "outputs": [],
      "source": [
        "bicycle_rental_wnd=bicycle_rental[(bicycle_rental['요일']==\"토\") or (bicycle_rental['요일']==\"일\")]"
      ]
    },
    {
      "cell_type": "code",
      "execution_count": null,
      "metadata": {
        "id": "TbZ7iGfYlnmE"
      },
      "outputs": [],
      "source": [
        "import folium\n",
        "from folium.plugins import MarkerCluster\n",
        "\n",
        "'''\n",
        "m = folium.Map(\n",
        "    location=[37.541, 126.986],\n",
        "    zoom_start=15\n",
        ")\n",
        "\n",
        "coords = bicycle_rental_wnd[['시작_위도', '시작_경도']]\n",
        "\n",
        "\n",
        "marker_cluster = MarkerCluster().add_to(m)\n",
        "\n",
        "for lat, long in zip(coords['시작_위도'], coords['시작_경도']):\n",
        "    folium.Marker([lat, long], icon = folium.Icon(color=\"green\")).add_to(marker_cluster)\n",
        "m\n",
        "'''"
      ]
    },
    {
      "cell_type": "markdown",
      "metadata": {
        "id": "odjSTZn_lt8f"
      },
      "source": [
        "![map cluster](https://user-images.githubusercontent.com/47911773/194583610-c7456a02-a125-4172-b46c-68f8e89d3433.png)"
      ]
    },
    {
      "cell_type": "markdown",
      "metadata": {
        "id": "BZWrR0QcHrAK"
      },
      "source": [
        "## 고도(DEM) 피쳐에 대한 F-Test 및 시각화"
      ]
    },
    {
      "cell_type": "code",
      "execution_count": null,
      "metadata": {
        "id": "BQ8ytYYAHu_o"
      },
      "outputs": [],
      "source": [
        "import numpy as np\n",
        "from scipy import stats\n",
        "\n",
        "#define F-test function\n",
        "def f_test(df: pd.DataFrame):\n",
        "    \"\"\"__Summary__\n",
        "\n",
        "    * `df`의 `df.dem`을 기준으로 상위 50%, 하위 50% 집단을 분리합니다.\n",
        "    * 그리고 \"대여수\" 피쳐와 \"반납수\" 피쳐의 f-test 수행하고 그 결과를 데이터프레임으로 반환합니다.\n",
        "    * 전역 네임스페이스를 오염시키지 않고자 함수로 묶었습니다.\n",
        "    * 인자로 전달된 `df: DataFrame`인자에는 `\"대여수\", \"반납수\", \"dem\"` 컬럼이 포함되어 있어야 합니다.  \"\"\"\n",
        "\n",
        "    for col in  [\"대여수\", \"반납수\", \"dem\"] :\n",
        "        assert col in df.columns\n",
        "\n",
        "\n",
        "    df_sorted = df.sort_values(\"dem\")\n",
        "    __N: int = len(df_sorted)//2\n",
        "    data = []\n",
        "    index = [\"대여수\", \"반납수\"]\n",
        "    for col in index:\n",
        "        temp = df_sorted[col].values\n",
        "        x, y = temp[__N:2*__N], temp[:__N]\n",
        "        f = np.var(x, ddof=1)/np.var(y, ddof=1)\n",
        "        dfn = x.size-1\n",
        "        dfd = y.size-1\n",
        "        p = 1 - stats.f.cdf(f, dfn, dfd)\n",
        "        data.append([f, p])\n",
        "\n",
        "    return pd.DataFrame(\n",
        "        data=data,\n",
        "        index=index,\n",
        "        columns=[\"f-stats\", \"p-value\"]\n",
        "    )\n",
        "\n",
        "@iief\n",
        "def _():\n",
        "    pd.read_csv(\"./merged_data/서울시_따릉이대여소별_고도_지하철역_정거장매핑.csv\")\n",
        "    f_test()"
      ]
    },
    {
      "cell_type": "code",
      "execution_count": null,
      "metadata": {
        "id": "9pkQET2uH_Hu"
      },
      "outputs": [],
      "source": [
        "\n",
        "def plot_dem(df: pd.DataFrame, ax=None, **kwargs) -> None:\n",
        "    \"\"\"__Summary__\n",
        "\n",
        "    * `df`의 `df.dem`을 X축으로 `반납수/대여수`를 y축으로 scatter plot을 그립니다.\n",
        "    * 인자로 전달된 `df: DataFrame`인자에는 `\"대여수\", \"반납수\", \"dem\"` 컬럼이 포함되어 있어야 합니다.  \"\"\"\n",
        "\n",
        "    for col in  [\"대여수\", \"반납수\", \"dem\"] :\n",
        "        assert col in df.columns\n",
        "\n",
        "    if ax is None:\n",
        "        fig, ax = plt.subplots(figsize=(10,5))\n",
        "\n",
        "    ax.scatter(df[\"dem\"], df[\"반납수\"]/df[\"대여수\"], **kwargs)\n",
        "\n",
        "\n"
      ]
    },
    {
      "cell_type": "markdown",
      "metadata": {
        "id": "z1bCWO5cRkua"
      },
      "source": [
        "# 머신러닝학습 및 성능 평가"
      ]
    },
    {
      "cell_type": "code",
      "execution_count": null,
      "metadata": {
        "id": "Q-XgvwnFRpZC"
      },
      "outputs": [],
      "source": [
        "import os\n",
        "import random\n",
        "import pandas as pd\n",
        "import numpy as np\n",
        "import warnings\n",
        "warnings.filterwarnings('ignore')\n",
        "\n",
        "from sklearn.model_selection import train_test_split\n",
        "from sklearn.preprocessing import StandardScaler\n",
        "\n",
        "random.seed(42)"
      ]
    },
    {
      "cell_type": "code",
      "execution_count": null,
      "metadata": {
        "id": "JITZFp_zXMSK"
      },
      "outputs": [],
      "source": [
        "# 데이터 로드\n",
        "mergedata = pd.read_csv('merged_data1.csv')\n",
        "mergedata.drop(['기준_날짜시간','인근역','인근정거장','사용일자','표준버스정류장ID'], axis=1, inplace=True)\n",
        "mergedata.set_index('대여소_ID',inplace=True)\n",
        "mergedata"
      ]
    },
    {
      "cell_type": "markdown",
      "metadata": {
        "id": "Wy8NGZPAR_LU"
      },
      "source": [
        "### Merge 데이터 전처리"
      ]
    },
    {
      "cell_type": "code",
      "execution_count": null,
      "metadata": {
        "id": "elb6X6QA_Kq0"
      },
      "outputs": [],
      "source": [
        "# 머신러닝 학습 가능한 형태로 변경\n",
        "def time_category(time):\n",
        "    if time < 3: return 3\n",
        "    elif time < 6: return 6\n",
        "    elif time < 9: return 9\n",
        "    elif time < 12: return 12\n",
        "    elif time < 15: return 15\n",
        "    elif time < 18: return 18\n",
        "    elif time < 21: return 21\n",
        "    else: return 24\n",
        "\n",
        "mergedata['다니는버스수']=mergedata['다니는버스수'].astype(int)\n",
        "mergedata['시간']=mergedata['시간'].apply(lambda x: time_category(x))\n",
        "mergedata['버스하차승객수']=mergedata['버스하차승객수'].astype(int)\n",
        "\n",
        "mergedata=pd.get_dummies(mergedata, columns=['요일','시간'])\n",
        "mergedata"
      ]
    },
    {
      "cell_type": "code",
      "execution_count": null,
      "metadata": {
        "id": "Mvu0a4S8R3Gg"
      },
      "outputs": [],
      "source": [
        "# 데이터 분할\n",
        "X_train, X_test, y_train, y_test = train_test_split(df.drop('대여건수',axis=1),\n",
        "                                                    df[['대여건수']], # 이부분은 y로 pd.Series가 아니라 pd.DataFrame을 넣어야하는 경우가 종종 있었던 거 같아 수정했습니다. (수정자: 이홍규)\n",
        "                                                    test_size=0.2,\n",
        "                                                    random_state=42)\n",
        "# X_test, X_val, y_test, y_val = train_test_split(X_test, y_test, test_size=0.5, random_state=42) # 아래 grid search 에서 cross validation 진행하므로 split 필요 없어서 수정. (수정자: 이정수)"
      ]
    },
    {
      "cell_type": "markdown",
      "metadata": {
        "id": "MENCdZAtR6ao"
      },
      "source": [
        "### 머신러닝 학습"
      ]
    },
    {
      "cell_type": "markdown",
      "metadata": {
        "id": "nQIH4OnlWwbE"
      },
      "source": [
        "대여소별 자전거 대여 수를 예측하기 위해 SVM, RF, XGBoost 모델을 기반으로 예측모델을 학습 및 평가한다."
      ]
    },
    {
      "cell_type": "code",
      "execution_count": null,
      "metadata": {
        "id": "YobBo3ydR4a4"
      },
      "outputs": [],
      "source": [
        "from sklearn import metrics\n",
        "from sklearn.metrics import mean_squared_error\n",
        "from sklearn.model_selection import GridSearchCV\n",
        "from sklearn.pipeline import Pipeline\n",
        "\n",
        "from xgboost import XGBRegressor\n",
        "from sklearn.ensemble import RandomForestRegressor\n",
        "from sklearn.svm import SVR"
      ]
    },
    {
      "cell_type": "code",
      "execution_count": null,
      "metadata": {
        "id": "eZcmjvbrSDF-"
      },
      "outputs": [],
      "source": [
        "# 데이터 학습 - SVR\n",
        "pipeline = Pipeline([('Scaler', StandardScaler()), ('SVR', SVR())]) # scalar 적용\n",
        "\n",
        "kernel_list = ['linear','rbf']\n",
        "C_list = [0.1, 1, 10]\n",
        "## parameter 키는 pipeline.get_params().keys()를 통해 확인가능\n",
        "parameters = {'SVR__kernel':kernel_list, 'SVR__C':C_list}\n",
        "\n",
        "svm_grid = GridSearchCV(pipeline, parameters, cv=5, scoring = 'neg_root_mean_squared_error') # 5-fold cross validation\n",
        "svm_grid.fit(X_train, y_train)\n",
        "\n",
        "# 최적 파라미터로 최종모형 생성 및 테스트셋 성능평가\n",
        "reg = SVR(C = svm_grid.best_params_['SVR__C'],\n",
        "          kernel = svm_grid.best_params_['SVR__kernel'])\n",
        "reg.fit(X_train, y_train)\n",
        "\n",
        "y_pred=reg.predict(X_test)\n",
        "RMSE = math.sqrt(mean_squared_error(y_test, y_pred))\n",
        "print(\"SVR RMSE':{}\".format(RMSE))\n",
        "print(\"SVR best C':{}, kernel':{}\".format(svm_grid.best_params_['SVR__C'],svm_grid.best_params_['SVR__kernel']))"
      ]
    },
    {
      "cell_type": "code",
      "execution_count": null,
      "metadata": {
        "id": "ierjIUv4UFFv"
      },
      "outputs": [],
      "source": [
        "# 데이터 학습 - RF\n",
        "pipeline = Pipeline([('Scaler', StandardScaler()), ('RF', RandomForestRegressor())]) # scalar 적용\n",
        "\n",
        "max_depth_list = [5,10,15]\n",
        "min_samples_leaf_list = [5,15]\n",
        "n_estimators_list= [50,100,200]\n",
        "\n",
        "parameters = {'RF__max_depth':max_depth_list,\n",
        "              'RF__min_samples_leaf':min_samples_leaf_list,\n",
        "              'RF__n_estimators':n_estimators_list}\n",
        "\n",
        "rf_grid = GridSearchCV(pipeline, parameters, cv=5, scoring = 'neg_root_mean_squared_error') # 5-fold cross validation\n",
        "rf_grid.fit(X_train, y_train)\n",
        "\n",
        "# 최적 파라미터로 최종모형 생성 및 테스트셋 성능평가\n",
        "## parameter 키는 pipeline.get_params().keys()를 통해 확인가능\n",
        "reg = RandomForestRegressor(max_depth = rf_grid.best_params_['RF__max_depth'],\n",
        "                            min_samples_leaf = rf_grid.best_params_['RF__min_samples_leaf'],\n",
        "                            n_estimators = rf_grid.best_params_['RF__n_estimators'])\n",
        "reg.fit(X_train, y_train)\n",
        "\n",
        "y_pred=reg.predict(X_test)\n",
        "RMSE = math.sqrt(mean_squared_error(y_test, y_pred))\n",
        "print(\"RF RMSE':{}\".format(RMSE))\n",
        "print(\"RF best max_depth':{}, min_samples_leaf':{}, n_estimators':{}\".format(rf_grid.best_params_['RF__max_depth'],\n",
        "                                                                             rf_grid.best_params_['RF__min_samples_leaf'],\n",
        "                                                                             rf_grid.best_params_['RF__n_estimators']))"
      ]
    },
    {
      "cell_type": "code",
      "execution_count": null,
      "metadata": {
        "id": "HuvJalciUFeg"
      },
      "outputs": [],
      "source": [
        "# 데이터 학습 - XGBoosting\n",
        "pipeline = Pipeline([('Scaler', StandardScaler()), ('XGB', XGBRegressor())]) # scalar 적용\n",
        "\n",
        "lambda_list = [1, 2, 3]\n",
        "gamma_list = [10, 50, 100]\n",
        "parameters = {'XGB__reg_lambda':lambda_list, 'XGB__gamma':gamma_list}\n",
        "\n",
        "xgb_grid = GridSearchCV(pipeline, parameters, cv=5, scoring = 'neg_root_mean_squared_error') # 5-fold cross validation\n",
        "xgb_grid.fit(X_train, y_train)\n",
        "\n",
        "# 최적 파라미터로 최종모형 생성 및 테스트셋 성능평가\n",
        "## parameter 키는 pipeline.get_params().keys()를 통해 확인가능\n",
        "reg = XGBRegressor(reg_lambda = xgb_grid.best_params_['XGB__reg_lambda'],\n",
        "                   gamma = xgb_grid.best_params_['XGB__gamma'])\n",
        "reg.fit(X_train, y_train)\n",
        "\n",
        "y_pred=reg.predict(X_test)\n",
        "RMSE = math.sqrt(mean_squared_error(y_test, y_pred))\n",
        "print(\"XGB RMSE':{}\".format(RMSE))\n",
        "print(\"XGB best reg_lambda':{}, gamma':{}\".format(xgb_grid.best_params_['XGB__reg_lambda'],xgb_grid.best_params_['XGB__gamma']))"
      ]
    }
  ],
  "metadata": {
    "colab": {
      "provenance": []
    },
    "kernelspec": {
      "display_name": "Python 3.8.11 ('tf')",
      "language": "python",
      "name": "python3"
    },
    "language_info": {
      "codemirror_mode": {
        "name": "ipython",
        "version": 3
      },
      "file_extension": ".py",
      "mimetype": "text/x-python",
      "name": "python",
      "nbconvert_exporter": "python",
      "pygments_lexer": "ipython3",
      "version": "3.8.11"
    },
    "orig_nbformat": 4,
    "vscode": {
      "interpreter": {
        "hash": "a61067ca0573f17acbcbf1f253ce7ef7d5748c75c7337dbe41cc83cef66752b9"
      }
    }
  },
  "nbformat": 4,
  "nbformat_minor": 0
}